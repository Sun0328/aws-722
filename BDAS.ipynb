{
 "cells": [
  {
   "cell_type": "code",
   "execution_count": 1,
   "id": "4370e683",
   "metadata": {},
   "outputs": [
    {
     "name": "stderr",
     "output_type": "stream",
     "text": [
      "WARNING: An illegal reflective access operation has occurred\n",
      "WARNING: Illegal reflective access by org.apache.spark.unsafe.Platform (file:/home/ubuntu/spark-3.2.1-bin-hadoop2.7/jars/spark-unsafe_2.12-3.2.1.jar) to constructor java.nio.DirectByteBuffer(long,int)\n",
      "WARNING: Please consider reporting this to the maintainers of org.apache.spark.unsafe.Platform\n",
      "WARNING: Use --illegal-access=warn to enable warnings of further illegal reflective access operations\n",
      "WARNING: All illegal access operations will be denied in a future release\n",
      "Using Spark's default log4j profile: org/apache/spark/log4j-defaults.properties\n",
      "Setting default log level to \"WARN\".\n",
      "To adjust logging level use sc.setLogLevel(newLevel). For SparkR, use setLogLevel(newLevel).\n",
      "23/10/12 21:26:59 WARN NativeCodeLoader: Unable to load native-hadoop library for your platform... using builtin-java classes where applicable\n"
     ]
    }
   ],
   "source": [
    "import findspark\n",
    "findspark.init('/home/ubuntu/spark-3.2.1-bin-hadoop2.7')\n",
    "import pyspark\n",
    "from pyspark.sql import SparkSession\n",
    "spark = SparkSession.builder.appName(\"WellbeingData\").getOrCreate()"
   ]
  },
  {
   "cell_type": "code",
   "execution_count": 2,
   "id": "64ce7330",
   "metadata": {},
   "outputs": [],
   "source": [
    "# Read data in the form of csv\n",
    "df = spark.read.csv('Wellbeing_and_lifestyle_data_Kaggle.csv')"
   ]
  },
  {
   "cell_type": "code",
   "execution_count": 3,
   "id": "4c16f8d1",
   "metadata": {},
   "outputs": [
    {
     "name": "stdout",
     "output_type": "stream",
     "text": [
      "+---------+--------------+------------+--------------+-----------+-----------------+--------------+-----------+--------+---------+--------------+----+-----------+-----------+-----------+-------------+--------------+-----------------+---------------+----------------+-----------------+----------+------+--------------------+\n",
      "|      _c0|           _c1|         _c2|           _c3|        _c4|              _c5|           _c6|        _c7|     _c8|      _c9|          _c10|_c11|       _c12|       _c13|       _c14|         _c15|          _c16|             _c17|           _c18|            _c19|             _c20|      _c21|  _c22|                _c23|\n",
      "+---------+--------------+------------+--------------+-----------+-----------------+--------------+-----------+--------+---------+--------------+----+-----------+-----------+-----------+-------------+--------------+-----------------+---------------+----------------+-----------------+----------+------+--------------------+\n",
      "|Timestamp|FRUITS_VEGGIES|DAILY_STRESS|PLACES_VISITED|CORE_CIRCLE|SUPPORTING_OTHERS|SOCIAL_NETWORK|ACHIEVEMENT|DONATION|BMI_RANGE|TODO_COMPLETED|FLOW|DAILY_STEPS|LIVE_VISION|SLEEP_HOURS|LOST_VACATION|DAILY_SHOUTING|SUFFICIENT_INCOME|PERSONAL_AWARDS|TIME_FOR_PASSION|WEEKLY_MEDITATION|       AGE|GENDER|WORK_LIFE_BALANCE...|\n",
      "|   7/7/15|             3|           2|             2|          5|                0|             5|          2|       0|        1|             6|   4|          5|          0|          7|            5|             5|                1|              4|               0|                5|  36 to 50|Female|               609.5|\n",
      "|   7/7/15|             2|           3|             4|          3|                8|            10|          5|       2|        2|             5|   2|          5|          5|          8|            2|             2|                2|              3|               2|                6|  36 to 50|Female|               655.6|\n",
      "|   7/7/15|             2|           3|             3|          4|                4|            10|          3|       2|        2|             2|   2|          4|          5|          8|           10|             2|                2|              4|               8|                3|  36 to 50|Female|               631.6|\n",
      "|   7/7/15|             3|           3|            10|          3|               10|             7|          2|       5|        2|             3|   5|          5|          0|          5|            7|             5|                1|              5|               2|                0|51 or more|Female|               622.7|\n",
      "|   7/7/15|             5|           1|             3|          3|               10|             4|          2|       4|        2|             5|   0|          5|          0|          7|            0|             0|                2|              8|               1|                5|51 or more|Female|               663.9|\n",
      "|   7/8/15|             3|           2|             3|          9|               10|            10|          2|       3|        1|             6|   1|          7|         10|          8|            0|             2|                2|             10|               8|                3|51 or more|Female|               722.3|\n",
      "|   7/8/15|             4|           2|            10|          6|               10|            10|          3|       5|        2|             8|   8|          7|          5|          7|           10|             0|                2|             10|               8|               10|51 or more|  Male|               727.2|\n",
      "|   7/9/15|             3|           4|             5|          3|                5|             7|          4|       0|        1|             8|   2|          8|         10|          6|            0|             2|                2|              8|               2|                2|  21 to 35|Female|               676.2|\n",
      "|   7/9/15|             5|           3|             6|          4|                3|             3|          5|       4|        1|            10|   2|          1|          5|         10|            0|             2|                2|             10|               3|               10|  21 to 35|Female|               702.8|\n",
      "|  7/10/15|             4|           4|             2|          6|               10|            10|          0|       4|        2|             3|   2|          3|          0|          6|            0|             0|                1|              3|               8|                1|51 or more|Female|               634.4|\n",
      "|  7/10/15|             2|           4|             7|          7|                1|             1|          3|       0|        2|             2|   2|          7|          4|          8|            7|             3|                2|              3|               0|                6|  36 to 50|Female|               610.1|\n",
      "|  7/12/15|             1|           4|             3|          8|                0|             2|          1|       0|        1|             2|   1|          8|          2|          7|            7|             1|                2|              4|               1|                7|  21 to 35|  Male|               618.6|\n",
      "|  7/12/15|             2|           2|            10|          5|                2|             8|          3|       4|        2|             7|   1|          6|         10|          8|            0|             0|                2|              5|               2|                7|  21 to 35|  Male|               686.4|\n",
      "|  7/12/15|             5|           3|             0|          3|                6|             6|          6|       3|        1|             8|   7|          7|          2|          6|            0|             3|                2|              5|               6|                5|  36 to 50|Female|               689.6|\n",
      "|  7/12/15|             3|           3|             2|          3|                7|             5|          3|       2|        1|             8|   0|          2|          5|          8|            3|             2|                1|              4|               5|                4|  21 to 35|Female|               639.7|\n",
      "|  7/12/15|             3|           3|             5|          4|               10|            10|          2|       5|        1|             7|   2|          8|         10|          6|            1|             2|                2|              8|               3|               10|51 or more|Female|               720.4|\n",
      "|  7/12/15|             4|           2|            10|          4|                6|            10|          4|       0|        1|             8|   2|          1|          1|          8|            1|             1|                2|              3|               3|                3|  21 to 35|  Male|               673.5|\n",
      "|  7/12/15|             4|           2|            10|         10|                5|            10|          0|       1|        1|             7|   1|         10|          2|          8|            0|             3|                2|              4|               8|                6|  21 to 35|  Male|               707.6|\n",
      "|  7/12/15|             5|           3|            10|          7|               10|             5|          6|       5|        1|             6|   2|          8|         10|          9|            0|             7|                2|              5|               4|                7|  36 to 50|Female|               727.8|\n",
      "+---------+--------------+------------+--------------+-----------+-----------------+--------------+-----------+--------+---------+--------------+----+-----------+-----------+-----------+-------------+--------------+-----------------+---------------+----------------+-----------------+----------+------+--------------------+\n",
      "only showing top 20 rows\n",
      "\n"
     ]
    }
   ],
   "source": [
    "# Show DataFrames\n",
    "df.show()"
   ]
  },
  {
   "cell_type": "code",
   "execution_count": 4,
   "id": "c58fbeb2",
   "metadata": {},
   "outputs": [
    {
     "name": "stderr",
     "output_type": "stream",
     "text": [
      "                                                                                \r"
     ]
    },
    {
     "name": "stdout",
     "output_type": "stream",
     "text": [
      "+-------+---------+------------------+------------------+------------------+------------------+-----------------+-----------------+------------------+------------------+------------------+-----------------+------------------+------------------+-----------------+------------------+------------------+------------------+-------------------+------------------+------------------+-----------------+------------+------+--------------------+\n",
      "|summary|      _c0|               _c1|               _c2|               _c3|               _c4|              _c5|              _c6|               _c7|               _c8|               _c9|             _c10|              _c11|              _c12|             _c13|              _c14|              _c15|              _c16|               _c17|              _c18|              _c19|             _c20|        _c21|  _c22|                _c23|\n",
      "+-------+---------+------------------+------------------+------------------+------------------+-----------------+-----------------+------------------+------------------+------------------+-----------------+------------------+------------------+-----------------+------------------+------------------+------------------+-------------------+------------------+------------------+-----------------+------------+------+--------------------+\n",
      "|  count|    15973|             15973|             15973|             15973|             15973|            15973|            15973|             15973|             15973|             15973|            15973|             15973|             15973|            15973|             15973|             15973|             15973|              15973|             15973|             15973|            15973|       15973| 15973|               15973|\n",
      "|   mean|     null| 2.922677185073879|2.7916849289336922| 5.232970197846231| 5.508076634109692|5.616453794139745|6.474267468069121| 4.000751314800902|2.7153143000250437| 1.410656148259454|5.745992987728525| 3.194778362133734| 5.703606311044328|3.752128725269221| 7.042887553218132| 2.898885549711996| 2.930879038317055| 1.7289631855747558| 5.711557726020536| 3.326571500125219|6.233345855246681|        null|  null|   666.7515026296032|\n",
      "| stddev|     null|1.4426942233979019|1.3678007467520352|3.3119123254937324|2.8403335572271833|3.242021034924002|3.086672183956178|2.7558373901607927| 1.851586429915072|0.4919683218732375|2.624097276447961|2.3575175409623665|2.8910125056198486|3.230986852229526|1.1990442948306186|3.6921795194479654|2.6763011497421796|0.44450897692281643|3.0896295789391575|2.7292927791428534|3.016571018122333|        null|  null|  45.019868198234136|\n",
      "|    min|   1/1/16|                 0|                 0|                 0|                 0|                0|                0|                 0|                 0|                 1|                0|                 0|                 1|                0|                 1|                 0|                 0|                  1|                 0|                 0|                0|    21 to 35|Female|                 480|\n",
      "|    max|Timestamp|    FRUITS_VEGGIES|      DAILY_STRESS|    PLACES_VISITED|       CORE_CIRCLE|SUPPORTING_OTHERS|   SOCIAL_NETWORK|       ACHIEVEMENT|          DONATION|         BMI_RANGE|   TODO_COMPLETED|              FLOW|       DAILY_STEPS|      LIVE_VISION|       SLEEP_HOURS|     LOST_VACATION|    DAILY_SHOUTING|  SUFFICIENT_INCOME|   PERSONAL_AWARDS|  TIME_FOR_PASSION|WEEKLY_MEDITATION|Less than 20|  Male|WORK_LIFE_BALANCE...|\n",
      "+-------+---------+------------------+------------------+------------------+------------------+-----------------+-----------------+------------------+------------------+------------------+-----------------+------------------+------------------+-----------------+------------------+------------------+------------------+-------------------+------------------+------------------+-----------------+------------+------+--------------------+\n",
      "\n"
     ]
    }
   ],
   "source": [
    "# Get general statistics on our data\n",
    "df.describe().show()"
   ]
  },
  {
   "cell_type": "code",
   "execution_count": 5,
   "id": "61cb6660",
   "metadata": {},
   "outputs": [
    {
     "name": "stdout",
     "output_type": "stream",
     "text": [
      "root\n",
      " |-- _c0: string (nullable = true)\n",
      " |-- _c1: string (nullable = true)\n",
      " |-- _c2: string (nullable = true)\n",
      " |-- _c3: string (nullable = true)\n",
      " |-- _c4: string (nullable = true)\n",
      " |-- _c5: string (nullable = true)\n",
      " |-- _c6: string (nullable = true)\n",
      " |-- _c7: string (nullable = true)\n",
      " |-- _c8: string (nullable = true)\n",
      " |-- _c9: string (nullable = true)\n",
      " |-- _c10: string (nullable = true)\n",
      " |-- _c11: string (nullable = true)\n",
      " |-- _c12: string (nullable = true)\n",
      " |-- _c13: string (nullable = true)\n",
      " |-- _c14: string (nullable = true)\n",
      " |-- _c15: string (nullable = true)\n",
      " |-- _c16: string (nullable = true)\n",
      " |-- _c17: string (nullable = true)\n",
      " |-- _c18: string (nullable = true)\n",
      " |-- _c19: string (nullable = true)\n",
      " |-- _c20: string (nullable = true)\n",
      " |-- _c21: string (nullable = true)\n",
      " |-- _c22: string (nullable = true)\n",
      " |-- _c23: string (nullable = true)\n",
      "\n"
     ]
    }
   ],
   "source": [
    "# Print data type\n",
    "df.printSchema()"
   ]
  },
  {
   "cell_type": "code",
   "execution_count": 6,
   "id": "da95bcfd",
   "metadata": {
    "scrolled": true
   },
   "outputs": [
    {
     "data": {
      "text/plain": [
       "[Row(_c0='Timestamp', _c1='FRUITS_VEGGIES', _c2='DAILY_STRESS', _c3='PLACES_VISITED', _c4='CORE_CIRCLE', _c5='SUPPORTING_OTHERS', _c6='SOCIAL_NETWORK', _c7='ACHIEVEMENT', _c8='DONATION', _c9='BMI_RANGE', _c10='TODO_COMPLETED', _c11='FLOW', _c12='DAILY_STEPS', _c13='LIVE_VISION', _c14='SLEEP_HOURS', _c15='LOST_VACATION', _c16='DAILY_SHOUTING', _c17='SUFFICIENT_INCOME', _c18='PERSONAL_AWARDS', _c19='TIME_FOR_PASSION', _c20='WEEKLY_MEDITATION', _c21='AGE', _c22='GENDER', _c23='WORK_LIFE_BALANCE_SCORE')]"
      ]
     },
     "execution_count": 6,
     "metadata": {},
     "output_type": "execute_result"
    }
   ],
   "source": [
    "df.head(1)"
   ]
  },
  {
   "cell_type": "code",
   "execution_count": 7,
   "id": "5f6af3b8",
   "metadata": {},
   "outputs": [
    {
     "data": {
      "text/plain": [
       "Row(Timestamp='7/7/15', FRUITS_VEGGIES='3', DAILY_STRESS='2', PLACES_VISITED='2', CORE_CIRCLE='5', SUPPORTING_OTHERS='0', SOCIAL_NETWORK='5', ACHIEVEMENT='2', DONATION='0', BMI_RANGE='1', TODO_COMPLETED='6', FLOW='4', DAILY_STEPS='5', LIVE_VISION='0', SLEEP_HOURS='7', LOST_VACATION='5', DAILY_SHOUTING='5', SUFFICIENT_INCOME='1', PERSONAL_AWARDS='4', TIME_FOR_PASSION='0', WEEKLY_MEDITATION='5', AGE='36 to 50', GENDER='Female', WORK_LIFE_BALANCE_SCORE='609.5')"
      ]
     },
     "execution_count": 7,
     "metadata": {},
     "output_type": "execute_result"
    }
   ],
   "source": [
    "# Create a new DataFrame with the first row of your original data as column names\n",
    "new_column_names = df.take(2)[0]\n",
    "df = df.toDF(*new_column_names)\n",
    "\n",
    "# Remove the first two rows from the original data\n",
    "df = df.filter(df['Timestamp'] != 'Timestamp')\n",
    "\n",
    "# Update head\n",
    "df.head()"
   ]
  },
  {
   "cell_type": "code",
   "execution_count": 8,
   "id": "2ef9941b",
   "metadata": {
    "scrolled": true
   },
   "outputs": [
    {
     "name": "stdout",
     "output_type": "stream",
     "text": [
      "root\n",
      " |-- Timestamp: string (nullable = true)\n",
      " |-- FRUITS_VEGGIES: integer (nullable = true)\n",
      " |-- DAILY_STRESS: integer (nullable = true)\n",
      " |-- PLACES_VISITED: integer (nullable = true)\n",
      " |-- CORE_CIRCLE: integer (nullable = true)\n",
      " |-- SUPPORTING_OTHERS: integer (nullable = true)\n",
      " |-- SOCIAL_NETWORK: integer (nullable = true)\n",
      " |-- ACHIEVEMENT: integer (nullable = true)\n",
      " |-- DONATION: integer (nullable = true)\n",
      " |-- BMI_RANGE: integer (nullable = true)\n",
      " |-- TODO_COMPLETED: integer (nullable = true)\n",
      " |-- FLOW: integer (nullable = true)\n",
      " |-- DAILY_STEPS: integer (nullable = true)\n",
      " |-- LIVE_VISION: integer (nullable = true)\n",
      " |-- SLEEP_HOURS: integer (nullable = true)\n",
      " |-- LOST_VACATION: integer (nullable = true)\n",
      " |-- DAILY_SHOUTING: integer (nullable = true)\n",
      " |-- SUFFICIENT_INCOME: integer (nullable = true)\n",
      " |-- PERSONAL_AWARDS: integer (nullable = true)\n",
      " |-- TIME_FOR_PASSION: integer (nullable = true)\n",
      " |-- WEEKLY_MEDITATION: integer (nullable = true)\n",
      " |-- AGE: string (nullable = true)\n",
      " |-- GENDER: string (nullable = true)\n",
      " |-- WORK_LIFE_BALANCE_SCORE: integer (nullable = true)\n",
      "\n"
     ]
    }
   ],
   "source": [
    "# Data type transformation\n",
    "from pyspark.sql.functions import col\n",
    "from pyspark.sql.types import (StructField,StringType,IntegerType,StructType)\n",
    "\n",
    "columns_to_convert = ['FRUITS_VEGGIES', 'DAILY_STRESS', 'PLACES_VISITED', \n",
    "                      'CORE_CIRCLE', 'SUPPORTING_OTHERS', 'SOCIAL_NETWORK',\n",
    "                      'ACHIEVEMENT', 'DONATION', 'BMI_RANGE',\n",
    "                      'TODO_COMPLETED','FLOW', 'DAILY_STEPS',\n",
    "                      'LIVE_VISION', 'SLEEP_HOURS', 'LOST_VACATION', \n",
    "                      'DAILY_SHOUTING', 'SUFFICIENT_INCOME', 'PERSONAL_AWARDS',\n",
    "                      'TIME_FOR_PASSION', 'WEEKLY_MEDITATION', 'WORK_LIFE_BALANCE_SCORE']\n",
    "\n",
    "df.columns\n",
    "\n",
    "# Change data type\n",
    "for column_name in columns_to_convert:\n",
    "    df = df.withColumn(column_name, col(column_name).cast(IntegerType()))\n",
    "\n",
    "df.printSchema()"
   ]
  },
  {
   "cell_type": "code",
   "execution_count": 9,
   "id": "beda34a7",
   "metadata": {},
   "outputs": [
    {
     "name": "stdout",
     "output_type": "stream",
     "text": [
      "+------------+\n",
      "|DAILY_STRESS|\n",
      "+------------+\n",
      "|        null|\n",
      "|           1|\n",
      "|           3|\n",
      "|           5|\n",
      "|           4|\n",
      "|           2|\n",
      "|           0|\n",
      "+------------+\n",
      "\n",
      "+------------+\n",
      "|         AGE|\n",
      "+------------+\n",
      "|  51 or more|\n",
      "|    36 to 50|\n",
      "|    21 to 35|\n",
      "|Less than 20|\n",
      "+------------+\n",
      "\n",
      "+------+\n",
      "|GENDER|\n",
      "+------+\n",
      "|Female|\n",
      "|  Male|\n",
      "+------+\n",
      "\n"
     ]
    }
   ],
   "source": [
    "# Print unique values\n",
    "distinct_values = df.select(\"DAILY_STRESS\").distinct()\n",
    "distinct_values.show()\n",
    "distinct_values = df.select(\"AGE\").distinct()\n",
    "distinct_values.show()\n",
    "distinct_values = df.select(\"GENDER\").distinct()\n",
    "distinct_values.show()"
   ]
  },
  {
   "cell_type": "code",
   "execution_count": 10,
   "id": "95f9bd68",
   "metadata": {
    "scrolled": true
   },
   "outputs": [
    {
     "name": "stdout",
     "output_type": "stream",
     "text": [
      "+-----------------------+\n",
      "|WORK_LIFE_BALANCE_SCORE|\n",
      "+-----------------------+\n",
      "|                    609|\n",
      "|                    655|\n",
      "|                    631|\n",
      "|                    622|\n",
      "|                    663|\n",
      "|                    722|\n",
      "|                    727|\n",
      "|                    676|\n",
      "|                    702|\n",
      "|                    634|\n",
      "+-----------------------+\n",
      "only showing top 10 rows\n",
      "\n"
     ]
    }
   ],
   "source": [
    "# print 10 values for work-life-balance score\n",
    "df.select(\"WORK_LIFE_BALANCE_SCORE\").show(10)"
   ]
  },
  {
   "cell_type": "code",
   "execution_count": 11,
   "id": "58daf8a7",
   "metadata": {},
   "outputs": [
    {
     "name": "stderr",
     "output_type": "stream",
     "text": [
      "[Stage 18:>                                                         (0 + 1) / 1]\r"
     ]
    },
    {
     "name": "stdout",
     "output_type": "stream",
     "text": [
      "+-------+-----------+------------------+------------------+------------------+------------------+-----------------+-----------------+------------------+------------------+------------------+-----------------+------------------+------------------+-----------------+------------------+------------------+------------------+-------------------+------------------+------------------+-----------------+------------+------+-----------------------+\n",
      "|summary|  Timestamp|    FRUITS_VEGGIES|      DAILY_STRESS|    PLACES_VISITED|       CORE_CIRCLE|SUPPORTING_OTHERS|   SOCIAL_NETWORK|       ACHIEVEMENT|          DONATION|         BMI_RANGE|   TODO_COMPLETED|              FLOW|       DAILY_STEPS|      LIVE_VISION|       SLEEP_HOURS|     LOST_VACATION|    DAILY_SHOUTING|  SUFFICIENT_INCOME|   PERSONAL_AWARDS|  TIME_FOR_PASSION|WEEKLY_MEDITATION|         AGE|GENDER|WORK_LIFE_BALANCE_SCORE|\n",
      "+-------+-----------+------------------+------------------+------------------+------------------+-----------------+-----------------+------------------+------------------+------------------+-----------------+------------------+------------------+-----------------+------------------+------------------+------------------+-------------------+------------------+------------------+-----------------+------------+------+-----------------------+\n",
      "|  count|      15972|             15972|             15971|             15972|             15972|            15972|            15972|             15972|             15972|             15972|            15972|             15972|             15972|            15972|             15972|             15972|             15972|              15972|             15972|             15972|            15972|       15972| 15972|                  15972|\n",
      "|   mean|       null| 2.922677185073879|2.7916849289336922| 5.232970197846231| 5.508076634109692|5.616453794139745|6.474267468069121| 4.000751314800902|2.7153143000250437| 1.410656148259454|5.745992987728525| 3.194778362133734| 5.703606311044328|3.752128725269221| 7.042887553218132| 2.898885549711996| 2.930879038317055| 1.7289631855747558| 5.711557726020536| 3.326571500125219|6.233345855246681|        null|  null|      666.2968319559228|\n",
      "| stddev|       null|1.4426942233979019|1.3678007467520352|3.3119123254937324|2.8403335572271833|3.242021034924002|3.086672183956178|2.7558373901607927| 1.851586429915072|0.4919683218732375|2.624097276447961|2.3575175409623665|2.8910125056198486|3.230986852229526|1.1990442948306186|3.6921795194479654|2.6763011497421796|0.44450897692281643|3.0896295789391575|2.7292927791428534|3.016571018122333|        null|  null|      45.02405156626067|\n",
      "|    min|     1/1/16|                 0|                 0|                 0|                 0|                0|                0|                 0|                 0|                 1|                0|                 0|                 1|                0|                 1|                 0|                 0|                  1|                 0|                 0|                0|    21 to 35|Female|                    480|\n",
      "|    max|9/9/20 8:10|                 5|                 5|                10|                10|               10|               10|                10|                 5|                 2|               10|                10|                10|               10|                10|                10|                10|                  2|                10|                10|               10|Less than 20|  Male|                    820|\n",
      "+-------+-----------+------------------+------------------+------------------+------------------+-----------------+-----------------+------------------+------------------+------------------+-----------------+------------------+------------------+-----------------+------------------+------------------+------------------+-------------------+------------------+------------------+-----------------+------------+------+-----------------------+\n",
      "\n"
     ]
    },
    {
     "name": "stderr",
     "output_type": "stream",
     "text": [
      "                                                                                \r"
     ]
    }
   ],
   "source": [
    "# Get general statistics again\n",
    "df.describe().show()"
   ]
  },
  {
   "cell_type": "code",
   "execution_count": 12,
   "id": "dc6aff4e",
   "metadata": {},
   "outputs": [
    {
     "name": "stdout",
     "output_type": "stream",
     "text": [
      "Correlation between FRUITS_VEGGIES and WORK_LIFE_BALANCE_SCORE: 0.45\n",
      "Correlation between DAILY_STRESS and WORK_LIFE_BALANCE_SCORE: -0.37\n",
      "Correlation between PLACES_VISITED and WORK_LIFE_BALANCE_SCORE: 0.53\n",
      "Correlation between CORE_CIRCLE and WORK_LIFE_BALANCE_SCORE: 0.51\n",
      "Correlation between SUPPORTING_OTHERS and WORK_LIFE_BALANCE_SCORE: 0.55\n",
      "Correlation between SOCIAL_NETWORK and WORK_LIFE_BALANCE_SCORE: 0.41\n",
      "Correlation between ACHIEVEMENT and WORK_LIFE_BALANCE_SCORE: 0.56\n",
      "Correlation between DONATION and WORK_LIFE_BALANCE_SCORE: 0.46\n",
      "Correlation between BMI_RANGE and WORK_LIFE_BALANCE_SCORE: -0.25\n",
      "Correlation between TODO_COMPLETED and WORK_LIFE_BALANCE_SCORE: 0.55\n",
      "Correlation between FLOW and WORK_LIFE_BALANCE_SCORE: 0.48\n",
      "Correlation between DAILY_STEPS and WORK_LIFE_BALANCE_SCORE: 0.42\n",
      "Correlation between LIVE_VISION and WORK_LIFE_BALANCE_SCORE: 0.47\n",
      "Correlation between SLEEP_HOURS and WORK_LIFE_BALANCE_SCORE: 0.20\n",
      "Correlation between LOST_VACATION and WORK_LIFE_BALANCE_SCORE: -0.27\n",
      "Correlation between DAILY_SHOUTING and WORK_LIFE_BALANCE_SCORE: -0.27\n",
      "Correlation between SUFFICIENT_INCOME and WORK_LIFE_BALANCE_SCORE: 0.40\n",
      "Correlation between PERSONAL_AWARDS and WORK_LIFE_BALANCE_SCORE: 0.50\n",
      "Correlation between TIME_FOR_PASSION and WORK_LIFE_BALANCE_SCORE: 0.52\n",
      "Correlation between WEEKLY_MEDITATION and WORK_LIFE_BALANCE_SCORE: 0.42\n"
     ]
    }
   ],
   "source": [
    "# List of variable column names\n",
    "variable_columns = ['FRUITS_VEGGIES', 'DAILY_STRESS', 'PLACES_VISITED', \n",
    "                      'CORE_CIRCLE', 'SUPPORTING_OTHERS', 'SOCIAL_NETWORK',\n",
    "                      'ACHIEVEMENT', 'DONATION', 'BMI_RANGE',\n",
    "                      'TODO_COMPLETED','FLOW', 'DAILY_STEPS',\n",
    "                      'LIVE_VISION', 'SLEEP_HOURS', 'LOST_VACATION', \n",
    "                      'DAILY_SHOUTING', 'SUFFICIENT_INCOME', 'PERSONAL_AWARDS',\n",
    "                      'TIME_FOR_PASSION', 'WEEKLY_MEDITATION']\n",
    "\n",
    "# Calculate correlations with WORK_LIFE_BALANCE_SCORE and print with two decimal places\n",
    "for variable in variable_columns:\n",
    "    correlation_coefficient = df.corr(variable, 'WORK_LIFE_BALANCE_SCORE')\n",
    "    formatted_coefficient = \"{:.2f}\".format(correlation_coefficient)\n",
    "    print(f\"Correlation between {variable} and WORK_LIFE_BALANCE_SCORE: {formatted_coefficient}\")\n"
   ]
  },
  {
   "cell_type": "code",
   "execution_count": 13,
   "id": "31928588",
   "metadata": {
    "scrolled": true
   },
   "outputs": [
    {
     "name": "stdout",
     "output_type": "stream",
     "text": [
      "Column Timestamp has 0 null values.\n",
      "Column FRUITS_VEGGIES has 0 null values.\n",
      "Column DAILY_STRESS has 1 null values.\n",
      "Column PLACES_VISITED has 0 null values.\n",
      "Column CORE_CIRCLE has 0 null values.\n",
      "Column SUPPORTING_OTHERS has 0 null values.\n",
      "Column SOCIAL_NETWORK has 0 null values.\n",
      "Column ACHIEVEMENT has 0 null values.\n",
      "Column DONATION has 0 null values.\n",
      "Column BMI_RANGE has 0 null values.\n",
      "Column TODO_COMPLETED has 0 null values.\n",
      "Column FLOW has 0 null values.\n",
      "Column DAILY_STEPS has 0 null values.\n",
      "Column LIVE_VISION has 0 null values.\n",
      "Column SLEEP_HOURS has 0 null values.\n",
      "Column LOST_VACATION has 0 null values.\n",
      "Column DAILY_SHOUTING has 0 null values.\n",
      "Column SUFFICIENT_INCOME has 0 null values.\n",
      "Column PERSONAL_AWARDS has 0 null values.\n",
      "Column TIME_FOR_PASSION has 0 null values.\n",
      "Column WEEKLY_MEDITATION has 0 null values.\n",
      "Column AGE has 0 null values.\n",
      "Column GENDER has 0 null values.\n",
      "Column WORK_LIFE_BALANCE_SCORE has 0 null values.\n"
     ]
    }
   ],
   "source": [
    "# Check null value\n",
    "for column in df.columns:\n",
    "    null_count = df.where(col(column).isNull()).count()\n",
    "    print(f\"Column {column} has {null_count} null values.\")"
   ]
  },
  {
   "cell_type": "code",
   "execution_count": 14,
   "id": "54b29034",
   "metadata": {},
   "outputs": [
    {
     "name": "stdout",
     "output_type": "stream",
     "text": [
      "+-----------+-----+\n",
      "|SLEEP_HOURS|count|\n",
      "+-----------+-----+\n",
      "|          1|   18|\n",
      "|          2|   21|\n",
      "|          3|   49|\n",
      "|          4|  252|\n",
      "|          5| 1025|\n",
      "|          6| 3397|\n",
      "|          7| 5566|\n",
      "|          8| 4324|\n",
      "|          9|  987|\n",
      "|         10|  333|\n",
      "+-----------+-----+\n",
      "\n"
     ]
    }
   ],
   "source": [
    "# Extreme Value\n",
    "sleep_hours_distribution = df.groupBy(\"SLEEP_HOURS\").count().orderBy(\"SLEEP_HOURS\")\n",
    "sleep_hours_distribution.show()"
   ]
  },
  {
   "cell_type": "code",
   "execution_count": 15,
   "id": "dc9d764b",
   "metadata": {},
   "outputs": [
    {
     "name": "stdout",
     "output_type": "stream",
     "text": [
      "std_deviation:  1.1990442948306186\n",
      "threshold:  3.597132884491856\n",
      "+-----------------+\n",
      "| avg(SLEEP_HOURS)|\n",
      "+-----------------+\n",
      "|7.042887553218132|\n",
      "+-----------------+\n",
      "\n"
     ]
    }
   ],
   "source": [
    "from pyspark.sql.functions import col, avg, when, expr, mean\n",
    "# Calculate the standard deviation\n",
    "std_deviation = df.selectExpr('stddev(SLEEP_HOURS)').first()[0]\n",
    "print(\"std_deviation: \", std_deviation)\n",
    "\n",
    "# Calculate the threshold for extreme values\n",
    "threshold = 3 * std_deviation\n",
    "print(\"threshold: \", threshold)\n",
    "\n",
    "average_sleep_hours = df.select(\"SLEEP_HOURS\").agg({\"SLEEP_HOURS\": \"avg\"})\n",
    "\n",
    "# Show the average value\n",
    "average_sleep_hours.show()"
   ]
  },
  {
   "cell_type": "code",
   "execution_count": 16,
   "id": "9df5fb6a",
   "metadata": {},
   "outputs": [
    {
     "name": "stdout",
     "output_type": "stream",
     "text": [
      "+-----------+-----+\n",
      "|SLEEP_HOURS|count|\n",
      "+-----------+-----+\n",
      "|          3|   49|\n",
      "|          4|  252|\n",
      "|          5| 1025|\n",
      "|          6| 3397|\n",
      "|          7| 5605|\n",
      "|          8| 4324|\n",
      "|          9|  987|\n",
      "|         10|  333|\n",
      "+-----------+-----+\n",
      "\n"
     ]
    }
   ],
   "source": [
    "# Replace extreme values with the mean\n",
    "df = df.withColumn(\"SLEEP_HOURS\", when((col(\"SLEEP_HOURS\") == 1) | (col(\"SLEEP_HOURS\") == 2), 7).otherwise(col(\"SLEEP_HOURS\")))\n",
    "\n",
    "sleep_hours_distribution = df.groupBy(\"SLEEP_HOURS\").count().orderBy(\"SLEEP_HOURS\")\n",
    "sleep_hours_distribution.show()"
   ]
  },
  {
   "cell_type": "code",
   "execution_count": 17,
   "id": "ae6ea2a5",
   "metadata": {},
   "outputs": [
    {
     "name": "stdout",
     "output_type": "stream",
     "text": [
      "+---------+----+\n",
      "|Timestamp|Year|\n",
      "+---------+----+\n",
      "|   7/7/15|  15|\n",
      "|   7/7/15|  15|\n",
      "|   7/7/15|  15|\n",
      "|   7/7/15|  15|\n",
      "|   7/7/15|  15|\n",
      "|   7/8/15|  15|\n",
      "|   7/8/15|  15|\n",
      "|   7/9/15|  15|\n",
      "|   7/9/15|  15|\n",
      "|  7/10/15|  15|\n",
      "+---------+----+\n",
      "only showing top 10 rows\n",
      "\n"
     ]
    }
   ],
   "source": [
    "# Clean time stamp\n",
    "from pyspark.sql.functions import substring, concat_ws\n",
    "\n",
    "# Assuming the date column is named 'Timestamp,' create a new column 'Year' to extract the year\n",
    "df = df.withColumn('Year', concat_ws('20', substring(col('Timestamp'), -2, 2)))\n",
    "\n",
    "# print 10 values\n",
    "df.select(\"Timestamp\",\"Year\").show(10)"
   ]
  },
  {
   "cell_type": "code",
   "execution_count": 18,
   "id": "8aff380d",
   "metadata": {},
   "outputs": [
    {
     "name": "stdout",
     "output_type": "stream",
     "text": [
      "+------+-----+\n",
      "|GENDER|count|\n",
      "+------+-----+\n",
      "|Female| 9858|\n",
      "|  Male| 6114|\n",
      "+------+-----+\n",
      "\n"
     ]
    }
   ],
   "source": [
    "# Gender\n",
    "gender_distribution = df.groupBy(\"GENDER\").count()\n",
    "gender_distribution.show()"
   ]
  },
  {
   "cell_type": "code",
   "execution_count": 19,
   "id": "1497768a",
   "metadata": {},
   "outputs": [
    {
     "name": "stdout",
     "output_type": "stream",
     "text": [
      "-----After-----\n",
      "+------+-----+\n",
      "|GENDER|count|\n",
      "+------+-----+\n",
      "|     1| 9858|\n",
      "|     0| 6114|\n",
      "+------+-----+\n",
      "\n"
     ]
    }
   ],
   "source": [
    "# Female - 1; Male - 0\n",
    "df = df.withColumn(\"GENDER\", when(col(\"GENDER\") == \"Female\", 1).when(col(\"GENDER\") == \"Male\", 0).otherwise(col(\"GENDER\")).cast(IntegerType()))\n",
    "\n",
    "print(\"-----After-----\")\n",
    "gender_distribution = df.groupBy(\"GENDER\").count()\n",
    "gender_distribution.show()"
   ]
  },
  {
   "cell_type": "code",
   "execution_count": 20,
   "id": "e629ae25",
   "metadata": {},
   "outputs": [
    {
     "name": "stdout",
     "output_type": "stream",
     "text": [
      "+------------+-----+\n",
      "|         AGE|count|\n",
      "+------------+-----+\n",
      "|  51 or more| 3390|\n",
      "|    36 to 50| 4655|\n",
      "|    21 to 35| 6108|\n",
      "|Less than 20| 1819|\n",
      "+------------+-----+\n",
      "\n"
     ]
    }
   ],
   "source": [
    "# Age Group\n",
    "age_distribution = df.groupBy(\"AGE\").count()\n",
    "age_distribution.show()"
   ]
  },
  {
   "cell_type": "code",
   "execution_count": 21,
   "id": "d3714cbb",
   "metadata": {},
   "outputs": [
    {
     "name": "stdout",
     "output_type": "stream",
     "text": [
      "+---------+-----+\n",
      "|Age_group|count|\n",
      "+---------+-----+\n",
      "|        1| 1819|\n",
      "|        2| 6108|\n",
      "|        3| 4655|\n",
      "|        4| 3390|\n",
      "+---------+-----+\n",
      "\n"
     ]
    }
   ],
   "source": [
    "# Use the when function to update the AGE column\n",
    "df = df.withColumn(\"Age_group\", when(col(\"AGE\") == \"Less than 20\", 1)\n",
    "                                .when(col(\"AGE\") == \"21 to 35\", 2)\n",
    "                                .when(col(\"AGE\") == \"36 to 50\", 3)\n",
    "                                .when(col(\"AGE\") == \"51 or more\", 4)\n",
    "                                .otherwise(col(\"AGE\")).cast(IntegerType()))\n",
    "\n",
    "ageGroup_distribution = df.groupBy(\"Age_group\").count().orderBy(\"Age_group\")\n",
    "ageGroup_distribution.show()"
   ]
  },
  {
   "cell_type": "code",
   "execution_count": 22,
   "id": "390e33ad",
   "metadata": {},
   "outputs": [
    {
     "name": "stdout",
     "output_type": "stream",
     "text": [
      "+------------+\n",
      "|DAILY_STRESS|\n",
      "+------------+\n",
      "|           1|\n",
      "|           3|\n",
      "|           5|\n",
      "|           4|\n",
      "|           2|\n",
      "|           0|\n",
      "+------------+\n",
      "\n"
     ]
    }
   ],
   "source": [
    "# Calculate the mean of non-NULL values\n",
    "mean_value_stress = df.filter(col(\"DAILY_STRESS\").isNotNull()).selectExpr(\"round(avg(DAILY_STRESS)) as mean_value\").first().mean_value\n",
    "\n",
    "# Cast the mean value to integer\n",
    "mean_value_stress = int(mean_value_stress)\n",
    "\n",
    "# Replace NULL values with the mean\n",
    "df = df.withColumn(\"DAILY_STRESS\", when(col(\"DAILY_STRESS\").isNull(),mean_value_stress).otherwise(col(\"DAILY_STRESS\")))\n",
    "\n",
    "# Show the results\n",
    "distinct_values = df.select(\"DAILY_STRESS\").distinct()\n",
    "distinct_values.show()"
   ]
  },
  {
   "cell_type": "code",
   "execution_count": 23,
   "id": "42f81a55",
   "metadata": {},
   "outputs": [
    {
     "name": "stdout",
     "output_type": "stream",
     "text": [
      "DAILY_STRESS has 0 null values.\n"
     ]
    }
   ],
   "source": [
    "# Check\n",
    "null_count = df.where(col(\"DAILY_STRESS\").isNull()).count()\n",
    "print(f\"DAILY_STRESS has {null_count} null values.\")"
   ]
  },
  {
   "cell_type": "code",
   "execution_count": 24,
   "id": "08664dab",
   "metadata": {},
   "outputs": [
    {
     "name": "stdout",
     "output_type": "stream",
     "text": [
      "+---------+-----+\n",
      "|BMI_RANGE|count|\n",
      "+---------+-----+\n",
      "|        1| 9413|\n",
      "|        2| 6559|\n",
      "+---------+-----+\n",
      "\n",
      "+-----------------+-----+\n",
      "|SUFFICIENT_INCOME|count|\n",
      "+-----------------+-----+\n",
      "|                1| 4329|\n",
      "|                2|11643|\n",
      "+-----------------+-----+\n",
      "\n"
     ]
    }
   ],
   "source": [
    "# BMI and Sufficient Income\n",
    "bmi_distribution = df.groupBy(\"BMI_RANGE\").count()\n",
    "bmi_distribution.show()\n",
    "suf_distribution = df.groupBy(\"SUFFICIENT_INCOME\").count()\n",
    "suf_distribution.show()"
   ]
  },
  {
   "cell_type": "code",
   "execution_count": 25,
   "id": "0c5a73a5",
   "metadata": {},
   "outputs": [
    {
     "name": "stdout",
     "output_type": "stream",
     "text": [
      "-----After-----\n",
      "+---------+-----+\n",
      "|BMI_RANGE|count|\n",
      "+---------+-----+\n",
      "|        1| 6559|\n",
      "|        0| 9413|\n",
      "+---------+-----+\n",
      "\n",
      "+-----------------+-----+\n",
      "|SUFFICIENT_INCOME|count|\n",
      "+-----------------+-----+\n",
      "|                1|11643|\n",
      "|                0| 4329|\n",
      "+-----------------+-----+\n",
      "\n"
     ]
    }
   ],
   "source": [
    "df = df.withColumn(\"BMI_RANGE\", when(col(\"BMI_RANGE\") == 1, 0).\n",
    "                   when(col(\"BMI_RANGE\") == 2, 1).otherwise(col(\"BMI_RANGE\")))\n",
    "df = df.withColumn(\"SUFFICIENT_INCOME\", when(col(\"SUFFICIENT_INCOME\") == 1, 0).\n",
    "                   when(col(\"SUFFICIENT_INCOME\") == 2, 1).otherwise(col(\"SUFFICIENT_INCOME\")))\n",
    "\n",
    "print(\"-----After-----\")\n",
    "bmi_distribution = df.groupBy(\"BMI_RANGE\").count()\n",
    "bmi_distribution.show()\n",
    "suf_distribution = df.groupBy(\"SUFFICIENT_INCOME\").count()\n",
    "suf_distribution.show()"
   ]
  },
  {
   "cell_type": "code",
   "execution_count": 26,
   "id": "f50b965d",
   "metadata": {},
   "outputs": [],
   "source": [
    "# 04-DT\n",
    "\n",
    "# PCA\n",
    "from pyspark.ml.feature import PCA, StandardScaler, VectorAssembler\n",
    "from pyspark.ml import Pipeline\n",
    "\n",
    "feature_columns = ['FRUITS_VEGGIES', 'DAILY_STRESS', 'PLACES_VISITED', \n",
    "                      'CORE_CIRCLE', 'SUPPORTING_OTHERS', 'SOCIAL_NETWORK',\n",
    "                      'ACHIEVEMENT', 'DONATION', 'BMI_RANGE',\n",
    "                      'TODO_COMPLETED','FLOW', 'DAILY_STEPS',\n",
    "                      'LIVE_VISION', 'SLEEP_HOURS', 'LOST_VACATION', \n",
    "                      'DAILY_SHOUTING', 'SUFFICIENT_INCOME', 'PERSONAL_AWARDS',\n",
    "                      'TIME_FOR_PASSION', 'WEEKLY_MEDITATION','GENDER','Age_group']"
   ]
  },
  {
   "cell_type": "code",
   "execution_count": 27,
   "id": "608c295a",
   "metadata": {},
   "outputs": [
    {
     "name": "stderr",
     "output_type": "stream",
     "text": [
      "23/10/12 21:27:28 WARN package: Truncated the string representation of a plan since it was too large. This behavior can be adjusted by setting 'spark.sql.debug.maxToStringFields'.\n"
     ]
    }
   ],
   "source": [
    "# Assemble the features into a single vector column\n",
    "assembler = VectorAssembler(inputCols=feature_columns, outputCol=\"features\")\n",
    "data = assembler.transform(df)\n",
    "\n",
    "# Standardize the features\n",
    "scaler = StandardScaler(inputCol=\"features\", outputCol=\"scaled_features\",\n",
    "                        withMean=True, withStd=True)\n",
    "scaler_model = scaler.fit(data)\n",
    "scaled_data = scaler_model.transform(data)"
   ]
  },
  {
   "cell_type": "code",
   "execution_count": 28,
   "id": "662eee96",
   "metadata": {},
   "outputs": [
    {
     "name": "stderr",
     "output_type": "stream",
     "text": [
      "23/10/12 21:27:30 WARN InstanceBuilder$NativeBLAS: Failed to load implementation from:dev.ludovic.netlib.blas.JNIBLAS\n",
      "23/10/12 21:27:30 WARN InstanceBuilder$NativeBLAS: Failed to load implementation from:dev.ludovic.netlib.blas.ForeignLinkerBLAS\n",
      "23/10/12 21:27:31 WARN LAPACK: Failed to load implementation from: com.github.fommil.netlib.NativeSystemLAPACK\n",
      "23/10/12 21:27:31 WARN LAPACK: Failed to load implementation from: com.github.fommil.netlib.NativeRefLAPACK\n"
     ]
    }
   ],
   "source": [
    "# Initialize the PCA model\n",
    "n_components = 15  # Set the number of principal components\n",
    "pca = PCA(k=n_components, inputCol=\"scaled_features\", outputCol=\"pca_features\")\n",
    "\n",
    "# Create a machine learning pipeline\n",
    "pipeline = Pipeline(stages=[assembler, scaler, pca])\n",
    "\n",
    "# Train the PCA model\n",
    "model = pipeline.fit(df)\n",
    "\n",
    "# Use the PCA model to transform the data\n",
    "projected_data = model.transform(df)"
   ]
  },
  {
   "cell_type": "code",
   "execution_count": 29,
   "id": "00ec9a8e",
   "metadata": {},
   "outputs": [
    {
     "name": "stdout",
     "output_type": "stream",
     "text": [
      "Principal Component PC1 Coefficients:\n",
      "FRUITS_VEGGIES: -0.21\n",
      "DAILY_STRESS: 0.12\n",
      "PLACES_VISITED: -0.25\n",
      "CORE_CIRCLE: 0.27\n",
      "SUPPORTING_OTHERS: -0.09\n",
      "SOCIAL_NETWORK: 0.27\n",
      "ACHIEVEMENT: -0.31\n",
      "DONATION: 0.06\n",
      "BMI_RANGE: -0.12\n",
      "TODO_COMPLETED: 0.12\n",
      "FLOW: -0.16\n",
      "DAILY_STEPS: 0.21\n",
      "LIVE_VISION: -0.35\n",
      "SLEEP_HOURS: 0.26\n",
      "LOST_VACATION: -0.33\n"
     ]
    },
    {
     "ename": "IndexError",
     "evalue": "index 15 is out of bounds for axis 0 with size 15",
     "output_type": "error",
     "traceback": [
      "\u001b[0;31m---------------------------------------------------------------------------\u001b[0m",
      "\u001b[0;31mIndexError\u001b[0m                                Traceback (most recent call last)",
      "Input \u001b[0;32mIn [29]\u001b[0m, in \u001b[0;36m<cell line: 4>\u001b[0;34m()\u001b[0m\n\u001b[1;32m      5\u001b[0m \u001b[38;5;28mprint\u001b[39m(\u001b[38;5;124mf\u001b[39m\u001b[38;5;124m\"\u001b[39m\u001b[38;5;124mPrincipal Component PC\u001b[39m\u001b[38;5;132;01m{\u001b[39;00mi \u001b[38;5;241m+\u001b[39m \u001b[38;5;241m1\u001b[39m\u001b[38;5;132;01m}\u001b[39;00m\u001b[38;5;124m Coefficients:\u001b[39m\u001b[38;5;124m\"\u001b[39m)\n\u001b[1;32m      6\u001b[0m \u001b[38;5;28;01mfor\u001b[39;00m j, feature \u001b[38;5;129;01min\u001b[39;00m \u001b[38;5;28menumerate\u001b[39m(feature_columns):\n\u001b[0;32m----> 7\u001b[0m     coefficient \u001b[38;5;241m=\u001b[39m \u001b[43mprincipal_components\u001b[49m\u001b[43m[\u001b[49m\u001b[43mi\u001b[49m\u001b[43m]\u001b[49m\u001b[43m[\u001b[49m\u001b[43mj\u001b[49m\u001b[43m]\u001b[49m\n\u001b[1;32m      8\u001b[0m     \u001b[38;5;28mprint\u001b[39m(\u001b[38;5;124mf\u001b[39m\u001b[38;5;124m\"\u001b[39m\u001b[38;5;132;01m{\u001b[39;00mfeature\u001b[38;5;132;01m}\u001b[39;00m\u001b[38;5;124m: \u001b[39m\u001b[38;5;132;01m{\u001b[39;00mcoefficient\u001b[38;5;132;01m:\u001b[39;00m\u001b[38;5;124m.2f\u001b[39m\u001b[38;5;132;01m}\u001b[39;00m\u001b[38;5;124m\"\u001b[39m)\n\u001b[1;32m      9\u001b[0m \u001b[38;5;28mprint\u001b[39m()\n",
      "\u001b[0;31mIndexError\u001b[0m: index 15 is out of bounds for axis 0 with size 15"
     ]
    }
   ],
   "source": [
    "# Access and print the principal components\n",
    "principal_components = model.stages[-1].pc.toArray()\n",
    "\n",
    "for i in range(n_components):\n",
    "    print(f\"Principal Component PC{i + 1} Coefficients:\")\n",
    "    for j, feature in enumerate(feature_columns):\n",
    "        coefficient = principal_components[i][j]\n",
    "        print(f\"{feature}: {coefficient:.2f}\")\n",
    "    print()"
   ]
  },
  {
   "cell_type": "code",
   "execution_count": null,
   "id": "7f9fc064",
   "metadata": {},
   "outputs": [],
   "source": [
    "# Print the explained variance ratios\n",
    "explained_variance = model.stages[-1].explainedVariance\n",
    "for i, ev in enumerate(explained_variance):\n",
    "    print(f\"Explained Variance for PC{i + 1}: {ev:.2f}\")\n",
    "\n",
    "cumulative_variance = [sum(explained_variance[:i+1]) for i in range(n_components)]\n",
    "for i, cv in enumerate(cumulative_variance):\n",
    "    print(f\"Cumulative Explained Variance for PC{i + 1}: {cv:.2f}\")"
   ]
  },
  {
   "cell_type": "code",
   "execution_count": 30,
   "id": "c25bde52",
   "metadata": {},
   "outputs": [],
   "source": [
    "# Random Tree\n",
    "from pyspark.ml import Pipeline\n",
    "from pyspark.ml.classification import (RandomForestClassifier, GBTClassifier, DecisionTreeClassifier)"
   ]
  },
  {
   "cell_type": "code",
   "execution_count": 31,
   "id": "a0ec5fb0",
   "metadata": {},
   "outputs": [],
   "source": [
    "# Import VectorAssembler and Vectors\n",
    "from pyspark.ml.linalg import Vectors\n",
    "from pyspark.ml.feature import VectorAssembler\n",
    "\n",
    "assembler = VectorAssembler(\n",
    "    inputCols=['FRUITS_VEGGIES', 'DAILY_STRESS', 'PLACES_VISITED', \n",
    "                          'CORE_CIRCLE', 'SUPPORTING_OTHERS', 'SOCIAL_NETWORK',\n",
    "                          'ACHIEVEMENT', 'DONATION', 'BMI_RANGE',\n",
    "                          'TODO_COMPLETED','FLOW', 'DAILY_STEPS',\n",
    "                          'LIVE_VISION', 'SLEEP_HOURS', 'LOST_VACATION', \n",
    "                          'DAILY_SHOUTING', 'SUFFICIENT_INCOME', 'PERSONAL_AWARDS',\n",
    "                          'TIME_FOR_PASSION', 'WEEKLY_MEDITATION','GENDER','Age_group'],\n",
    "    outputCol=\"features\")"
   ]
  },
  {
   "cell_type": "code",
   "execution_count": 33,
   "id": "71ea62fa",
   "metadata": {},
   "outputs": [
    {
     "name": "stdout",
     "output_type": "stream",
     "text": [
      "root\n",
      " |-- Timestamp: string (nullable = true)\n",
      " |-- FRUITS_VEGGIES: integer (nullable = true)\n",
      " |-- DAILY_STRESS: integer (nullable = true)\n",
      " |-- PLACES_VISITED: integer (nullable = true)\n",
      " |-- CORE_CIRCLE: integer (nullable = true)\n",
      " |-- SUPPORTING_OTHERS: integer (nullable = true)\n",
      " |-- SOCIAL_NETWORK: integer (nullable = true)\n",
      " |-- ACHIEVEMENT: integer (nullable = true)\n",
      " |-- DONATION: integer (nullable = true)\n",
      " |-- BMI_RANGE: integer (nullable = true)\n",
      " |-- TODO_COMPLETED: integer (nullable = true)\n",
      " |-- FLOW: integer (nullable = true)\n",
      " |-- DAILY_STEPS: integer (nullable = true)\n",
      " |-- LIVE_VISION: integer (nullable = true)\n",
      " |-- SLEEP_HOURS: integer (nullable = true)\n",
      " |-- LOST_VACATION: integer (nullable = true)\n",
      " |-- DAILY_SHOUTING: integer (nullable = true)\n",
      " |-- SUFFICIENT_INCOME: integer (nullable = true)\n",
      " |-- PERSONAL_AWARDS: integer (nullable = true)\n",
      " |-- TIME_FOR_PASSION: integer (nullable = true)\n",
      " |-- WEEKLY_MEDITATION: integer (nullable = true)\n",
      " |-- AGE: string (nullable = true)\n",
      " |-- GENDER: integer (nullable = true)\n",
      " |-- WORK_LIFE_BALANCE_SCORE: integer (nullable = true)\n",
      " |-- Year: string (nullable = false)\n",
      " |-- Age_group: integer (nullable = true)\n",
      " |-- Normalized_SCORE: double (nullable = true)\n",
      " |-- features: vector (nullable = true)\n",
      "\n"
     ]
    }
   ],
   "source": [
    "# Now that we've created the assembler variable, let's actually transform the data.\n",
    "output = assembler.transform(df)\n",
    "\n",
    "# Using print schema, you see that the features output column has been added. \n",
    "output.printSchema()"
   ]
  },
  {
   "cell_type": "code",
   "execution_count": 34,
   "id": "15b206c9",
   "metadata": {},
   "outputs": [
    {
     "data": {
      "text/plain": [
       "[Row(Timestamp='7/7/15', FRUITS_VEGGIES=3, DAILY_STRESS=2, PLACES_VISITED=2, CORE_CIRCLE=5, SUPPORTING_OTHERS=0, SOCIAL_NETWORK=5, ACHIEVEMENT=2, DONATION=0, BMI_RANGE=0, TODO_COMPLETED=6, FLOW=4, DAILY_STEPS=5, LIVE_VISION=0, SLEEP_HOURS=7, LOST_VACATION=5, DAILY_SHOUTING=5, SUFFICIENT_INCOME=0, PERSONAL_AWARDS=4, TIME_FOR_PASSION=0, WEEKLY_MEDITATION=5, AGE='36 to 50', GENDER=1, WORK_LIFE_BALANCE_SCORE=609, Year='15', Age_group=3, Normalized_SCORE=60.9, features=DenseVector([3.0, 2.0, 2.0, 5.0, 0.0, 5.0, 2.0, 0.0, 0.0, 6.0, 4.0, 5.0, 0.0, 7.0, 5.0, 5.0, 0.0, 4.0, 0.0, 5.0, 1.0, 3.0]))]"
      ]
     },
     "execution_count": 34,
     "metadata": {},
     "output_type": "execute_result"
    }
   ],
   "source": [
    "# You can see that the features column is a dense vector that combines the various features as expected.\n",
    "output.head(1)"
   ]
  },
  {
   "cell_type": "code",
   "execution_count": 35,
   "id": "23b21aac",
   "metadata": {},
   "outputs": [
    {
     "name": "stdout",
     "output_type": "stream",
     "text": [
      "+-----------------------+----------------+\n",
      "|WORK_LIFE_BALANCE_SCORE|Normalized_SCORE|\n",
      "+-----------------------+----------------+\n",
      "|                    609|            60.9|\n",
      "|                    655|            65.5|\n",
      "|                    631|            63.1|\n",
      "|                    622|            62.2|\n",
      "|                    663|            66.3|\n",
      "|                    722|            72.2|\n",
      "|                    727|            72.7|\n",
      "|                    676|            67.6|\n",
      "|                    702|            70.2|\n",
      "|                    634|            63.4|\n",
      "|                    610|            61.0|\n",
      "|                    618|            61.8|\n",
      "|                    686|            68.6|\n",
      "|                    689|            68.9|\n",
      "|                    639|            63.9|\n",
      "|                    720|            72.0|\n",
      "|                    673|            67.3|\n",
      "|                    707|            70.7|\n",
      "|                    727|            72.7|\n",
      "|                    687|            68.7|\n",
      "+-----------------------+----------------+\n",
      "only showing top 20 rows\n",
      "\n",
      "+--------------------+----------------+\n",
      "|            features|Normalized_SCORE|\n",
      "+--------------------+----------------+\n",
      "|[3.0,2.0,2.0,5.0,...|              60|\n",
      "|[2.0,3.0,4.0,3.0,...|              65|\n",
      "|[2.0,3.0,3.0,4.0,...|              63|\n",
      "|[3.0,3.0,10.0,3.0...|              62|\n",
      "|[5.0,1.0,3.0,3.0,...|              66|\n",
      "|[3.0,2.0,3.0,9.0,...|              72|\n",
      "|[4.0,2.0,10.0,6.0...|              72|\n",
      "|[3.0,4.0,5.0,3.0,...|              67|\n",
      "|[5.0,3.0,6.0,4.0,...|              70|\n",
      "|[4.0,4.0,2.0,6.0,...|              63|\n",
      "|[2.0,4.0,7.0,7.0,...|              61|\n",
      "|[1.0,4.0,3.0,8.0,...|              61|\n",
      "|[2.0,2.0,10.0,5.0...|              68|\n",
      "|[5.0,3.0,0.0,3.0,...|              68|\n",
      "|[3.0,3.0,2.0,3.0,...|              63|\n",
      "|[3.0,3.0,5.0,4.0,...|              72|\n",
      "|[4.0,2.0,10.0,4.0...|              67|\n",
      "|[4.0,2.0,10.0,10....|              70|\n",
      "|[5.0,3.0,10.0,7.0...|              72|\n",
      "|[3.0,1.0,6.0,10.0...|              68|\n",
      "+--------------------+----------------+\n",
      "only showing top 20 rows\n",
      "\n"
     ]
    }
   ],
   "source": [
    "# Create a new column 'Normalized_SCORE' by dividing 'WORK_LIFE_BALANCE_SCORE' by 100\n",
    "df = df.withColumn('Normalized_SCORE', col('WORK_LIFE_BALANCE_SCORE') / 10)\n",
    "\n",
    "# Show the first few rows to verify the new column\n",
    "df.select('WORK_LIFE_BALANCE_SCORE', 'Normalized_SCORE').show()\n",
    "\n",
    "final_data_tree = output.select(\"features\",'Normalized_SCORE')\n",
    "final_data_tree = final_data_tree.withColumn('Normalized_SCORE', col('Normalized_SCORE').cast('integer'))\n",
    "final_data_tree.show()"
   ]
  },
  {
   "cell_type": "code",
   "execution_count": 36,
   "id": "1fbf3e8d",
   "metadata": {},
   "outputs": [
    {
     "name": "stderr",
     "output_type": "stream",
     "text": [
      "                                                                                \r"
     ]
    }
   ],
   "source": [
    "# A randomised 70/30 split. \n",
    "train_data,test_data = final_data_tree.randomSplit([0.7,0.3])\n",
    "\n",
    "dtc = DecisionTreeClassifier(labelCol='Normalized_SCORE',featuresCol='features')\n",
    "rfc = RandomForestClassifier(labelCol='Normalized_SCORE',featuresCol='features')\n",
    "\n",
    "# Train the models (it's three models, so it might take some time).\n",
    "dtc_model = dtc.fit(train_data)\n",
    "rfc_model = rfc.fit(train_data)\n",
    "\n",
    "dtc_predictions = dtc_model.transform(test_data)\n",
    "rfc_predictions = rfc_model.transform(test_data)"
   ]
  },
  {
   "cell_type": "code",
   "execution_count": null,
   "id": "92963928",
   "metadata": {},
   "outputs": [],
   "source": []
  },
  {
   "cell_type": "code",
   "execution_count": 37,
   "id": "58cc04c2",
   "metadata": {},
   "outputs": [
    {
     "name": "stderr",
     "output_type": "stream",
     "text": [
      "23/10/12 21:30:55 WARN DAGScheduler: Broadcasting large task binary with size 1025.4 KiB\n",
      "[Stage 210:>                                                        (0 + 1) / 1]\r"
     ]
    },
    {
     "name": "stdout",
     "output_type": "stream",
     "text": [
      "Here are the results!\n",
      "----------------------------------------\n",
      "A single decision tree has an accuracy of: 12.83%\n",
      "----------------------------------------\n",
      "A random forest ensemble has an accuracy of: 17.87%\n"
     ]
    },
    {
     "name": "stderr",
     "output_type": "stream",
     "text": [
      "                                                                                \r"
     ]
    }
   ],
   "source": [
    "from pyspark.ml.evaluation import MulticlassClassificationEvaluator\n",
    "\n",
    "# Select (prediction, true label) and compute test error. \n",
    "acc_evaluator = MulticlassClassificationEvaluator(labelCol=\"Normalized_SCORE\", predictionCol=\"prediction\", metricName=\"accuracy\")\n",
    "\n",
    "dtc_acc = acc_evaluator.evaluate(dtc_predictions)\n",
    "rfc_acc = acc_evaluator.evaluate(rfc_predictions)\n",
    "\n",
    "# Let's do something a bit more complex in terms of printing, just so it's formatted nicer. \n",
    "print(\"Here are the results!\")\n",
    "print('-'*40)\n",
    "print('A single decision tree has an accuracy of: {0:2.2f}%'.format(dtc_acc*100))\n",
    "print('-'*40)\n",
    "print('A random forest ensemble has an accuracy of: {0:2.2f}%'.format(rfc_acc*100))"
   ]
  },
  {
   "cell_type": "code",
   "execution_count": 35,
   "id": "cf969ae6",
   "metadata": {
    "scrolled": true
   },
   "outputs": [
    {
     "name": "stdout",
     "output_type": "stream",
     "text": [
      "+--------------------+-----------------------+\n",
      "|            features|WORK_LIFE_BALANCE_SCORE|\n",
      "+--------------------+-----------------------+\n",
      "|[3.0,2.0,2.0,5.0,...|                    609|\n",
      "|[2.0,3.0,4.0,3.0,...|                    655|\n",
      "|[2.0,3.0,3.0,4.0,...|                    631|\n",
      "|[3.0,3.0,10.0,3.0...|                    622|\n",
      "|[5.0,1.0,3.0,3.0,...|                    663|\n",
      "|[3.0,2.0,3.0,9.0,...|                    722|\n",
      "|[4.0,2.0,10.0,6.0...|                    727|\n",
      "|[3.0,4.0,5.0,3.0,...|                    676|\n",
      "|[5.0,3.0,6.0,4.0,...|                    702|\n",
      "|[4.0,4.0,2.0,6.0,...|                    634|\n",
      "|[2.0,4.0,7.0,7.0,...|                    610|\n",
      "|[1.0,4.0,3.0,8.0,...|                    618|\n",
      "|[2.0,2.0,10.0,5.0...|                    686|\n",
      "|[5.0,3.0,0.0,3.0,...|                    689|\n",
      "|[3.0,3.0,2.0,3.0,...|                    639|\n",
      "|[3.0,3.0,5.0,4.0,...|                    720|\n",
      "|[4.0,2.0,10.0,4.0...|                    673|\n",
      "|[4.0,2.0,10.0,10....|                    707|\n",
      "|[5.0,3.0,10.0,7.0...|                    727|\n",
      "|[3.0,1.0,6.0,10.0...|                    687|\n",
      "+--------------------+-----------------------+\n",
      "only showing top 20 rows\n",
      "\n"
     ]
    }
   ],
   "source": [
    "final_data = output.select(\"features\",'WORK_LIFE_BALANCE_SCORE')\n",
    "final_data.show()"
   ]
  },
  {
   "cell_type": "code",
   "execution_count": null,
   "id": "d4f9104c",
   "metadata": {},
   "outputs": [],
   "source": []
  },
  {
   "cell_type": "code",
   "execution_count": 36,
   "id": "ca2b772d",
   "metadata": {},
   "outputs": [
    {
     "name": "stderr",
     "output_type": "stream",
     "text": [
      "                                                                                \r"
     ]
    },
    {
     "name": "stdout",
     "output_type": "stream",
     "text": [
      "+-------+-----------------------+\n",
      "|summary|WORK_LIFE_BALANCE_SCORE|\n",
      "+-------+-----------------------+\n",
      "|  count|                  11103|\n",
      "|   mean|      666.5541745474196|\n",
      "| stddev|      45.09767733677434|\n",
      "|    min|                    480|\n",
      "|    max|                    818|\n",
      "+-------+-----------------------+\n",
      "\n",
      "+-------+-----------------------+\n",
      "|summary|WORK_LIFE_BALANCE_SCORE|\n",
      "+-------+-----------------------+\n",
      "|  count|                   4869|\n",
      "|   mean|      665.7100020538098|\n",
      "| stddev|      44.85480667419001|\n",
      "|    min|                    480|\n",
      "|    max|                    820|\n",
      "+-------+-----------------------+\n",
      "\n"
     ]
    }
   ],
   "source": [
    "# Let's do a randomised 70/30 split. \n",
    "train_data,test_data = final_data.randomSplit([0.7,0.3])\n",
    "\n",
    "# Let's see our training data.\n",
    "train_data.describe().show()\n",
    "\n",
    "# And our testing data.\n",
    "test_data.describe().show()"
   ]
  },
  {
   "cell_type": "code",
   "execution_count": 37,
   "id": "09db9dc7",
   "metadata": {},
   "outputs": [
    {
     "name": "stderr",
     "output_type": "stream",
     "text": [
      "23/10/12 21:04:42 WARN Instrumentation: [bc34e1c9] regParam is zero, which might cause numerical instability and overfitting.\n",
      "23/10/12 21:04:43 WARN InstanceBuilder$NativeLAPACK: Failed to load implementation from:dev.ludovic.netlib.lapack.JNILAPACK\n"
     ]
    }
   ],
   "source": [
    "# Linear Regression\n",
    "from pyspark.ml.regression import LinearRegression\n",
    "\n",
    "lr = LinearRegression(labelCol='WORK_LIFE_BALANCE_SCORE')\n",
    "\n",
    "# Fit the model to the data.\n",
    "lrModel = lr.fit(train_data)"
   ]
  },
  {
   "cell_type": "code",
   "execution_count": 38,
   "id": "9c5416c9",
   "metadata": {},
   "outputs": [
    {
     "name": "stdout",
     "output_type": "stream",
     "text": [
      "Coefficients: [3.4076691929545446,-3.3956285340146004,1.7002738248138076,1.7017278146744532,1.7029221565628383,1.7094944438831223,1.6959600206653596,3.4029901313408346,-17.00237593658236,1.7078528454314161,1.6991982014153812,1.9027703714670696,1.6959790259924554,1.8992302809763553,-1.7015853008187285,-1.7042969220117017,17.01466769451508,1.700573537462108,1.6990780045509475,1.7071462504032753,0.003359525574031781,0.0025295058219619937]\n",
      "\n",
      "\n",
      "Intercept:543.5195885003651\n"
     ]
    }
   ],
   "source": [
    "# Print the coefficients and intercept for linear regression\n",
    "print(\"Coefficients: {}\".format(str(lrModel.coefficients)))\n",
    "print('\\n')\n",
    "print(\"Intercept:{}\".format(str(lrModel.intercept)))"
   ]
  },
  {
   "cell_type": "code",
   "execution_count": 39,
   "id": "c2967a32",
   "metadata": {},
   "outputs": [
    {
     "name": "stderr",
     "output_type": "stream",
     "text": [
      "/home/ubuntu/.local/lib/python3.10/site-packages/pyspark/sql/context.py:125: FutureWarning: Deprecated in 3.0.0. Use SparkSession.builder.getOrCreate() instead.\n",
      "  warnings.warn(\n"
     ]
    },
    {
     "name": "stdout",
     "output_type": "stream",
     "text": [
      "+--------------------+\n",
      "|           residuals|\n",
      "+--------------------+\n",
      "|-0.18411964461142816|\n",
      "|  0.2022722290452066|\n",
      "| -0.3877531404050387|\n",
      "|  0.3652998260477034|\n",
      "|0.039845569006956794|\n",
      "| -0.2747341514399295|\n",
      "| -0.3321197742388904|\n",
      "|  0.5273219762461849|\n",
      "|  0.6093720956533843|\n",
      "|-0.32570068673362584|\n",
      "|  0.3268571768878701|\n",
      "|  0.3268571768878701|\n",
      "|  0.3268571768878701|\n",
      "| -0.1198576710165753|\n",
      "| 0.13071305289622615|\n",
      "| -0.3107674980797128|\n",
      "|0.027596025149705383|\n",
      "|-0.29223732161358384|\n",
      "|-0.07834666718406424|\n",
      "|-0.02459037914331...|\n",
      "+--------------------+\n",
      "only showing top 20 rows\n",
      "\n",
      "RMSE: 0.596528533333595\n",
      "r2: 0.9998250180667547\n"
     ]
    }
   ],
   "source": [
    "# Summarize the model over the training set and print out some metrics.\n",
    "trainingSummary = lrModel.summary\n",
    "trainingSummary.residuals.show()\n",
    "\n",
    "# Print Root Mean Squared Error. \n",
    "print(\"RMSE: {}\".format(trainingSummary.rootMeanSquaredError))\n",
    "\n",
    "# Print R-Squared.\n",
    "print(\"r2: {}\".format(trainingSummary.r2))"
   ]
  },
  {
   "cell_type": "code",
   "execution_count": 40,
   "id": "ad0ad0c0",
   "metadata": {},
   "outputs": [
    {
     "name": "stdout",
     "output_type": "stream",
     "text": [
      "+--------------------+\n",
      "|           residuals|\n",
      "+--------------------+\n",
      "|-0.31069376586697217|\n",
      "|  0.0255247654233699|\n",
      "| 0.33753469910982403|\n",
      "| 0.13785255613663594|\n",
      "| -0.2596498698084133|\n",
      "|-0.33112746368055923|\n",
      "| -0.3525119923758666|\n",
      "|  -0.260674844294158|\n",
      "|-0.11831739008880504|\n",
      "| 0.21214249460513201|\n",
      "|0.050214630817436046|\n",
      "|  0.3324389405865986|\n",
      "| 0.21181648514050266|\n",
      "|  0.6637053114855007|\n",
      "|-0.38220747389971166|\n",
      "| -0.2817360776402893|\n",
      "|  0.5472535186328287|\n",
      "| 0.42144327135235926|\n",
      "|-0.10922443507331536|\n",
      "|-0.14489343976470082|\n",
      "+--------------------+\n",
      "only showing top 20 rows\n",
      "\n",
      "RSME: 0.5612719818434576\n",
      "R2: 0.9998433905540943\n"
     ]
    }
   ],
   "source": [
    "# Let's evaluate the model against the test data.\n",
    "test_results = lrModel.evaluate(test_data)\n",
    "\n",
    "# This shows the difference between the predicted value and the test data.\n",
    "test_results.residuals.show()\n",
    "\n",
    "# Let's get some evaluation metrics.\n",
    "print(\"RSME: {}\".format(test_results.rootMeanSquaredError))\n",
    "\n",
    "# We can also get the R2 value. \n",
    "print(\"R2: {}\".format(test_results.r2))"
   ]
  },
  {
   "cell_type": "code",
   "execution_count": 41,
   "id": "25003406",
   "metadata": {},
   "outputs": [
    {
     "name": "stdout",
     "output_type": "stream",
     "text": [
      "F-statistic: 259.722\n",
      "p-value: 0.00000\n"
     ]
    }
   ],
   "source": [
    "# Get the F-statistic and p-value\n",
    "from scipy import stats\n",
    "# Calculate the explained variance and residual degrees of freedom\n",
    "explained_variance = trainingSummary.explainedVariance\n",
    "residual_degrees_of_freedom = trainingSummary.numInstances - len(lrModel.coefficients) - 1\n",
    "\n",
    "# Calculate the unexplained variance\n",
    "unexplained_variance = trainingSummary.meanSquaredError * residual_degrees_of_freedom\n",
    "\n",
    "# Calculate the F-statistic\n",
    "f_statistic = (explained_variance / len(lrModel.coefficients)) / (unexplained_variance / residual_degrees_of_freedom)\n",
    "\n",
    "# Calculate the p-value\n",
    "from scipy.stats import f\n",
    "p_value = 1.0 - f.cdf(f_statistic, len(lrModel.coefficients), residual_degrees_of_freedom)\n",
    "\n",
    "# Print the F-statistic and p-value\n",
    "print(\"F-statistic: {:.3f}\".format(f_statistic))\n",
    "print(\"p-value: {:.5f}\".format(p_value))"
   ]
  },
  {
   "cell_type": "code",
   "execution_count": 42,
   "id": "19bbc319",
   "metadata": {},
   "outputs": [
    {
     "name": "stdout",
     "output_type": "stream",
     "text": [
      "Coefficient 0: {'idx': 0, 'name': 'FRUITS_VEGGIES'} - Standard Error = 0.00436\n",
      "Coefficient 1: {'idx': 1, 'name': 'DAILY_STRESS'} - Standard Error = 0.00464\n",
      "Coefficient 2: {'idx': 2, 'name': 'PLACES_VISITED'} - Standard Error = 0.00193\n",
      "Coefficient 3: {'idx': 3, 'name': 'CORE_CIRCLE'} - Standard Error = 0.00228\n",
      "Coefficient 4: {'idx': 4, 'name': 'SUPPORTING_OTHERS'} - Standard Error = 0.00217\n",
      "Coefficient 5: {'idx': 5, 'name': 'SOCIAL_NETWORK'} - Standard Error = 0.00208\n",
      "Coefficient 6: {'idx': 6, 'name': 'ACHIEVEMENT'} - Standard Error = 0.00254\n",
      "Coefficient 7: {'idx': 7, 'name': 'DONATION'} - Standard Error = 0.00349\n",
      "Coefficient 8: {'idx': 8, 'name': 'BMI_RANGE'} - Standard Error = 0.01211\n",
      "Coefficient 9: {'idx': 9, 'name': 'TODO_COMPLETED'} - Standard Error = 0.00249\n",
      "Coefficient 10: {'idx': 10, 'name': 'FLOW'} - Standard Error = 0.00291\n",
      "Coefficient 11: {'idx': 11, 'name': 'DAILY_STEPS'} - Standard Error = 0.00212\n",
      "Coefficient 12: {'idx': 12, 'name': 'LIVE_VISION'} - Standard Error = 0.00196\n",
      "Coefficient 13: {'idx': 13, 'name': 'SLEEP_HOURS'} - Standard Error = 0.00507\n",
      "Coefficient 14: {'idx': 14, 'name': 'LOST_VACATION'} - Standard Error = 0.00160\n",
      "Coefficient 15: {'idx': 15, 'name': 'DAILY_SHOUTING'} - Standard Error = 0.00226\n",
      "Coefficient 16: {'idx': 16, 'name': 'SUFFICIENT_INCOME'} - Standard Error = 0.01350\n",
      "Coefficient 17: {'idx': 17, 'name': 'PERSONAL_AWARDS'} - Standard Error = 0.00213\n",
      "Coefficient 18: {'idx': 18, 'name': 'TIME_FOR_PASSION'} - Standard Error = 0.00252\n",
      "Coefficient 19: {'idx': 19, 'name': 'WEEKLY_MEDITATION'} - Standard Error = 0.00206\n",
      "Coefficient 20: {'idx': 20, 'name': 'GENDER'} - Standard Error = 0.01223\n",
      "Coefficient 21: {'idx': 21, 'name': 'Age_group'} - Standard Error = 0.00668\n"
     ]
    }
   ],
   "source": [
    "# Get the standard errors for the coefficients\n",
    "standard_errors = trainingSummary.coefficientStandardErrors\n",
    "\n",
    "# Get the feature names\n",
    "feature_names = train_data.schema['features'].metadata[\"ml_attr\"][\"attrs\"][\"numeric\"]\n",
    "\n",
    "# Print the standard errors for each coefficient\n",
    "for i, (feature_name, se) in enumerate(zip(feature_names, standard_errors)):\n",
    "    print(\"Coefficient {}: {} - Standard Error = {:.5f}\".format(i, feature_name, se))"
   ]
  },
  {
   "cell_type": "code",
   "execution_count": 43,
   "id": "f3a6b59c",
   "metadata": {},
   "outputs": [
    {
     "name": "stdout",
     "output_type": "stream",
     "text": [
      "Coefficients:\n",
      "FRUITS_VEGGIES: 3.40767\n",
      "DAILY_STRESS: -3.39563\n",
      "PLACES_VISITED: 1.70027\n",
      "CORE_CIRCLE: 1.70173\n",
      "SUPPORTING_OTHERS: 1.70292\n",
      "SOCIAL_NETWORK: 1.70949\n",
      "ACHIEVEMENT: 1.69596\n",
      "DONATION: 3.40299\n",
      "BMI_RANGE: -17.00238\n",
      "TODO_COMPLETED: 1.70785\n",
      "FLOW: 1.69920\n",
      "DAILY_STEPS: 1.90277\n",
      "LIVE_VISION: 1.69598\n",
      "SLEEP_HOURS: 1.89923\n",
      "LOST_VACATION: -1.70159\n",
      "DAILY_SHOUTING: -1.70430\n",
      "SUFFICIENT_INCOME: 17.01467\n",
      "PERSONAL_AWARDS: 1.70057\n",
      "TIME_FOR_PASSION: 1.69908\n",
      "WEEKLY_MEDITATION: 1.70715\n",
      "GENDER: 0.00336\n",
      "Age_group: 0.00253\n",
      "\n",
      "Intercept: 543.51959\n"
     ]
    }
   ],
   "source": [
    "# Print the coefficients and intercept for linear regression（Updated）\n",
    "coefficients = lrModel.coefficients\n",
    "intercept = lrModel.intercept\n",
    "\n",
    "print(\"Coefficients:\")\n",
    "for i, feature_name in enumerate(feature_names):\n",
    "    coefficient = coefficients[i]\n",
    "    print(f\"{feature_name['name']}: {coefficient:.5f}\")\n",
    "\n",
    "print(\"\\nIntercept: {:.5f}\".format(intercept))"
   ]
  },
  {
   "cell_type": "code",
   "execution_count": 38,
   "id": "cf2cc8fe",
   "metadata": {
    "scrolled": true
   },
   "outputs": [
    {
     "data": {
      "image/png": "[encoded data removed]",
      "text/plain": [
       "<Figure size 432x288 with 1 Axes>"
      ]
     },
     "metadata": {
      "needs_background": "light"
     },
     "output_type": "display_data"
    },
    {
     "data": {
      "image/png": "[encoded data removed]",
      "text/plain": [
       "<Figure size 432x288 with 1 Axes>"
      ]
     },
     "metadata": {
      "needs_background": "light"
     },
     "output_type": "display_data"
    }
   ],
   "source": [
    "import pandas as pd\n",
    "import matplotlib.pyplot as plt\n",
    "\n",
    "# Convert PySpark DataFrame to a Pandas DataFrame\n",
    "pandas_df = df.toPandas()\n",
    "\n",
    "# Boxplot by GENDER\n",
    "pandas_df.boxplot(column='WORK_LIFE_BALANCE_SCORE', by='GENDER')\n",
    "plt.title(\"Boxplot of WORK_LIFE_BALANCE_SCORE by GENDER\")\n",
    "plt.show()\n",
    "\n",
    "# Boxplot by Age_Group\n",
    "pandas_df.boxplot(column='WORK_LIFE_BALANCE_SCORE', by='Age_group')\n",
    "plt.title(\"Boxplot of WORK_LIFE_BALANCE_SCORE by Age_group\")\n",
    "plt.show()"
   ]
  },
  {
   "cell_type": "code",
   "execution_count": 47,
   "id": "69911910",
   "metadata": {},
   "outputs": [
    {
     "ename": "AnalysisException",
     "evalue": "cannot resolve 'Normalized_SCORE' given input columns: [ACHIEVEMENT, AGE, Age_group, BMI_RANGE, CORE_CIRCLE, DAILY_SHOUTING, DAILY_STEPS, DAILY_STRESS, DONATION, FLOW, FRUITS_VEGGIES, GENDER, LIVE_VISION, LOST_VACATION, PERSONAL_AWARDS, PLACES_VISITED, SLEEP_HOURS, SOCIAL_NETWORK, SUFFICIENT_INCOME, SUPPORTING_OTHERS, TIME_FOR_PASSION, TODO_COMPLETED, Timestamp, WEEKLY_MEDITATION, WORK_LIFE_BALANCE_SCORE, Year, features];\n'Project [features#8026, 'Normalized_SCORE]\n+- Project [Timestamp#2280, FRUITS_VEGGIES#2352, DAILY_STRESS#7300, PLACES_VISITED#2402, CORE_CIRCLE#2427, SUPPORTING_OTHERS#2452, SOCIAL_NETWORK#2477, ACHIEVEMENT#2502, DONATION#2527, BMI_RANGE#7454, TODO_COMPLETED#2577, FLOW#2602, DAILY_STEPS#2627, LIVE_VISION#2652, SLEEP_HOURS#6961, LOST_VACATION#2702, DAILY_SHOUTING#2727, SUFFICIENT_INCOME#7481, PERSONAL_AWARDS#2777, TIME_FOR_PASSION#2802, WEEKLY_MEDITATION#2827, AGE#2301, GENDER#7107, WORK_LIFE_BALANCE_SCORE#2852, ... 3 more fields]\n   +- Project [Timestamp#2280, FRUITS_VEGGIES#2352, DAILY_STRESS#7300, PLACES_VISITED#2402, CORE_CIRCLE#2427, SUPPORTING_OTHERS#2452, SOCIAL_NETWORK#2477, ACHIEVEMENT#2502, DONATION#2527, BMI_RANGE#7454, TODO_COMPLETED#2577, FLOW#2602, DAILY_STEPS#2627, LIVE_VISION#2652, SLEEP_HOURS#6961, LOST_VACATION#2702, DAILY_SHOUTING#2727, CASE WHEN (SUFFICIENT_INCOME#2752 = 1) THEN 0 WHEN (SUFFICIENT_INCOME#2752 = 2) THEN 1 ELSE SUFFICIENT_INCOME#2752 END AS SUFFICIENT_INCOME#7481, PERSONAL_AWARDS#2777, TIME_FOR_PASSION#2802, WEEKLY_MEDITATION#2827, AGE#2301, GENDER#7107, WORK_LIFE_BALANCE_SCORE#2852, ... 2 more fields]\n      +- Project [Timestamp#2280, FRUITS_VEGGIES#2352, DAILY_STRESS#7300, PLACES_VISITED#2402, CORE_CIRCLE#2427, SUPPORTING_OTHERS#2452, SOCIAL_NETWORK#2477, ACHIEVEMENT#2502, DONATION#2527, CASE WHEN (BMI_RANGE#2552 = 1) THEN 0 WHEN (BMI_RANGE#2552 = 2) THEN 1 ELSE BMI_RANGE#2552 END AS BMI_RANGE#7454, TODO_COMPLETED#2577, FLOW#2602, DAILY_STEPS#2627, LIVE_VISION#2652, SLEEP_HOURS#6961, LOST_VACATION#2702, DAILY_SHOUTING#2727, SUFFICIENT_INCOME#2752, PERSONAL_AWARDS#2777, TIME_FOR_PASSION#2802, WEEKLY_MEDITATION#2827, AGE#2301, GENDER#7107, WORK_LIFE_BALANCE_SCORE#2852, ... 2 more fields]\n         +- Project [Timestamp#2280, FRUITS_VEGGIES#2352, CASE WHEN isnull(DAILY_STRESS#2377) THEN 3 ELSE DAILY_STRESS#2377 END AS DAILY_STRESS#7300, PLACES_VISITED#2402, CORE_CIRCLE#2427, SUPPORTING_OTHERS#2452, SOCIAL_NETWORK#2477, ACHIEVEMENT#2502, DONATION#2527, BMI_RANGE#2552, TODO_COMPLETED#2577, FLOW#2602, DAILY_STEPS#2627, LIVE_VISION#2652, SLEEP_HOURS#6961, LOST_VACATION#2702, DAILY_SHOUTING#2727, SUFFICIENT_INCOME#2752, PERSONAL_AWARDS#2777, TIME_FOR_PASSION#2802, WEEKLY_MEDITATION#2827, AGE#2301, GENDER#7107, WORK_LIFE_BALANCE_SCORE#2852, ... 2 more fields]\n            +- Project [Timestamp#2280, FRUITS_VEGGIES#2352, DAILY_STRESS#2377, PLACES_VISITED#2402, CORE_CIRCLE#2427, SUPPORTING_OTHERS#2452, SOCIAL_NETWORK#2477, ACHIEVEMENT#2502, DONATION#2527, BMI_RANGE#2552, TODO_COMPLETED#2577, FLOW#2602, DAILY_STEPS#2627, LIVE_VISION#2652, SLEEP_HOURS#6961, LOST_VACATION#2702, DAILY_SHOUTING#2727, SUFFICIENT_INCOME#2752, PERSONAL_AWARDS#2777, TIME_FOR_PASSION#2802, WEEKLY_MEDITATION#2827, AGE#2301, GENDER#7107, WORK_LIFE_BALANCE_SCORE#2852, ... 2 more fields]\n               +- Project [Timestamp#2280, FRUITS_VEGGIES#2352, DAILY_STRESS#2377, PLACES_VISITED#2402, CORE_CIRCLE#2427, SUPPORTING_OTHERS#2452, SOCIAL_NETWORK#2477, ACHIEVEMENT#2502, DONATION#2527, BMI_RANGE#2552, TODO_COMPLETED#2577, FLOW#2602, DAILY_STEPS#2627, LIVE_VISION#2652, SLEEP_HOURS#6961, LOST_VACATION#2702, DAILY_SHOUTING#2727, SUFFICIENT_INCOME#2752, PERSONAL_AWARDS#2777, TIME_FOR_PASSION#2802, WEEKLY_MEDITATION#2827, AGE#2301, cast(CASE WHEN (GENDER#2302 = Female) THEN cast(1 as string) WHEN (GENDER#2302 = Male) THEN cast(0 as string) ELSE GENDER#2302 END as int) AS GENDER#7107, WORK_LIFE_BALANCE_SCORE#2852, Year#7027]\n                  +- Project [Timestamp#2280, FRUITS_VEGGIES#2352, DAILY_STRESS#2377, PLACES_VISITED#2402, CORE_CIRCLE#2427, SUPPORTING_OTHERS#2452, SOCIAL_NETWORK#2477, ACHIEVEMENT#2502, DONATION#2527, BMI_RANGE#2552, TODO_COMPLETED#2577, FLOW#2602, DAILY_STEPS#2627, LIVE_VISION#2652, SLEEP_HOURS#6961, LOST_VACATION#2702, DAILY_SHOUTING#2727, SUFFICIENT_INCOME#2752, PERSONAL_AWARDS#2777, TIME_FOR_PASSION#2802, WEEKLY_MEDITATION#2827, AGE#2301, GENDER#2302, WORK_LIFE_BALANCE_SCORE#2852, concat_ws(20, substring(Timestamp#2280, -2, 2)) AS Year#7027]\n                     +- Project [Timestamp#2280, FRUITS_VEGGIES#2352, DAILY_STRESS#2377, PLACES_VISITED#2402, CORE_CIRCLE#2427, SUPPORTING_OTHERS#2452, SOCIAL_NETWORK#2477, ACHIEVEMENT#2502, DONATION#2527, BMI_RANGE#2552, TODO_COMPLETED#2577, FLOW#2602, DAILY_STEPS#2627, LIVE_VISION#2652, CASE WHEN ((SLEEP_HOURS#2677 = 1) OR (SLEEP_HOURS#2677 = 2)) THEN 7 ELSE SLEEP_HOURS#2677 END AS SLEEP_HOURS#6961, LOST_VACATION#2702, DAILY_SHOUTING#2727, SUFFICIENT_INCOME#2752, PERSONAL_AWARDS#2777, TIME_FOR_PASSION#2802, WEEKLY_MEDITATION#2827, AGE#2301, GENDER#2302, WORK_LIFE_BALANCE_SCORE#2852]\n                        +- Project [Timestamp#2280, FRUITS_VEGGIES#2352, DAILY_STRESS#2377, PLACES_VISITED#2402, CORE_CIRCLE#2427, SUPPORTING_OTHERS#2452, SOCIAL_NETWORK#2477, ACHIEVEMENT#2502, DONATION#2527, BMI_RANGE#2552, TODO_COMPLETED#2577, FLOW#2602, DAILY_STEPS#2627, LIVE_VISION#2652, SLEEP_HOURS#2677, LOST_VACATION#2702, DAILY_SHOUTING#2727, SUFFICIENT_INCOME#2752, PERSONAL_AWARDS#2777, TIME_FOR_PASSION#2802, WEEKLY_MEDITATION#2827, AGE#2301, GENDER#2302, cast(WORK_LIFE_BALANCE_SCORE#2303 as int) AS WORK_LIFE_BALANCE_SCORE#2852]\n                           +- Project [Timestamp#2280, FRUITS_VEGGIES#2352, DAILY_STRESS#2377, PLACES_VISITED#2402, CORE_CIRCLE#2427, SUPPORTING_OTHERS#2452, SOCIAL_NETWORK#2477, ACHIEVEMENT#2502, DONATION#2527, BMI_RANGE#2552, TODO_COMPLETED#2577, FLOW#2602, DAILY_STEPS#2627, LIVE_VISION#2652, SLEEP_HOURS#2677, LOST_VACATION#2702, DAILY_SHOUTING#2727, SUFFICIENT_INCOME#2752, PERSONAL_AWARDS#2777, TIME_FOR_PASSION#2802, cast(WEEKLY_MEDITATION#2300 as int) AS WEEKLY_MEDITATION#2827, AGE#2301, GENDER#2302, WORK_LIFE_BALANCE_SCORE#2303]\n                              +- Project [Timestamp#2280, FRUITS_VEGGIES#2352, DAILY_STRESS#2377, PLACES_VISITED#2402, CORE_CIRCLE#2427, SUPPORTING_OTHERS#2452, SOCIAL_NETWORK#2477, ACHIEVEMENT#2502, DONATION#2527, BMI_RANGE#2552, TODO_COMPLETED#2577, FLOW#2602, DAILY_STEPS#2627, LIVE_VISION#2652, SLEEP_HOURS#2677, LOST_VACATION#2702, DAILY_SHOUTING#2727, SUFFICIENT_INCOME#2752, PERSONAL_AWARDS#2777, cast(TIME_FOR_PASSION#2299 as int) AS TIME_FOR_PASSION#2802, WEEKLY_MEDITATION#2300, AGE#2301, GENDER#2302, WORK_LIFE_BALANCE_SCORE#2303]\n                                 +- Project [Timestamp#2280, FRUITS_VEGGIES#2352, DAILY_STRESS#2377, PLACES_VISITED#2402, CORE_CIRCLE#2427, SUPPORTING_OTHERS#2452, SOCIAL_NETWORK#2477, ACHIEVEMENT#2502, DONATION#2527, BMI_RANGE#2552, TODO_COMPLETED#2577, FLOW#2602, DAILY_STEPS#2627, LIVE_VISION#2652, SLEEP_HOURS#2677, LOST_VACATION#2702, DAILY_SHOUTING#2727, SUFFICIENT_INCOME#2752, cast(PERSONAL_AWARDS#2298 as int) AS PERSONAL_AWARDS#2777, TIME_FOR_PASSION#2299, WEEKLY_MEDITATION#2300, AGE#2301, GENDER#2302, WORK_LIFE_BALANCE_SCORE#2303]\n                                    +- Project [Timestamp#2280, FRUITS_VEGGIES#2352, DAILY_STRESS#2377, PLACES_VISITED#2402, CORE_CIRCLE#2427, SUPPORTING_OTHERS#2452, SOCIAL_NETWORK#2477, ACHIEVEMENT#2502, DONATION#2527, BMI_RANGE#2552, TODO_COMPLETED#2577, FLOW#2602, DAILY_STEPS#2627, LIVE_VISION#2652, SLEEP_HOURS#2677, LOST_VACATION#2702, DAILY_SHOUTING#2727, cast(SUFFICIENT_INCOME#2297 as int) AS SUFFICIENT_INCOME#2752, PERSONAL_AWARDS#2298, TIME_FOR_PASSION#2299, WEEKLY_MEDITATION#2300, AGE#2301, GENDER#2302, WORK_LIFE_BALANCE_SCORE#2303]\n                                       +- Project [Timestamp#2280, FRUITS_VEGGIES#2352, DAILY_STRESS#2377, PLACES_VISITED#2402, CORE_CIRCLE#2427, SUPPORTING_OTHERS#2452, SOCIAL_NETWORK#2477, ACHIEVEMENT#2502, DONATION#2527, BMI_RANGE#2552, TODO_COMPLETED#2577, FLOW#2602, DAILY_STEPS#2627, LIVE_VISION#2652, SLEEP_HOURS#2677, LOST_VACATION#2702, cast(DAILY_SHOUTING#2296 as int) AS DAILY_SHOUTING#2727, SUFFICIENT_INCOME#2297, PERSONAL_AWARDS#2298, TIME_FOR_PASSION#2299, WEEKLY_MEDITATION#2300, AGE#2301, GENDER#2302, WORK_LIFE_BALANCE_SCORE#2303]\n                                          +- Project [Timestamp#2280, FRUITS_VEGGIES#2352, DAILY_STRESS#2377, PLACES_VISITED#2402, CORE_CIRCLE#2427, SUPPORTING_OTHERS#2452, SOCIAL_NETWORK#2477, ACHIEVEMENT#2502, DONATION#2527, BMI_RANGE#2552, TODO_COMPLETED#2577, FLOW#2602, DAILY_STEPS#2627, LIVE_VISION#2652, SLEEP_HOURS#2677, cast(LOST_VACATION#2295 as int) AS LOST_VACATION#2702, DAILY_SHOUTING#2296, SUFFICIENT_INCOME#2297, PERSONAL_AWARDS#2298, TIME_FOR_PASSION#2299, WEEKLY_MEDITATION#2300, AGE#2301, GENDER#2302, WORK_LIFE_BALANCE_SCORE#2303]\n                                             +- Project [Timestamp#2280, FRUITS_VEGGIES#2352, DAILY_STRESS#2377, PLACES_VISITED#2402, CORE_CIRCLE#2427, SUPPORTING_OTHERS#2452, SOCIAL_NETWORK#2477, ACHIEVEMENT#2502, DONATION#2527, BMI_RANGE#2552, TODO_COMPLETED#2577, FLOW#2602, DAILY_STEPS#2627, LIVE_VISION#2652, cast(SLEEP_HOURS#2294 as int) AS SLEEP_HOURS#2677, LOST_VACATION#2295, DAILY_SHOUTING#2296, SUFFICIENT_INCOME#2297, PERSONAL_AWARDS#2298, TIME_FOR_PASSION#2299, WEEKLY_MEDITATION#2300, AGE#2301, GENDER#2302, WORK_LIFE_BALANCE_SCORE#2303]\n                                                +- Project [Timestamp#2280, FRUITS_VEGGIES#2352, DAILY_STRESS#2377, PLACES_VISITED#2402, CORE_CIRCLE#2427, SUPPORTING_OTHERS#2452, SOCIAL_NETWORK#2477, ACHIEVEMENT#2502, DONATION#2527, BMI_RANGE#2552, TODO_COMPLETED#2577, FLOW#2602, DAILY_STEPS#2627, cast(LIVE_VISION#2293 as int) AS LIVE_VISION#2652, SLEEP_HOURS#2294, LOST_VACATION#2295, DAILY_SHOUTING#2296, SUFFICIENT_INCOME#2297, PERSONAL_AWARDS#2298, TIME_FOR_PASSION#2299, WEEKLY_MEDITATION#2300, AGE#2301, GENDER#2302, WORK_LIFE_BALANCE_SCORE#2303]\n                                                   +- Project [Timestamp#2280, FRUITS_VEGGIES#2352, DAILY_STRESS#2377, PLACES_VISITED#2402, CORE_CIRCLE#2427, SUPPORTING_OTHERS#2452, SOCIAL_NETWORK#2477, ACHIEVEMENT#2502, DONATION#2527, BMI_RANGE#2552, TODO_COMPLETED#2577, FLOW#2602, cast(DAILY_STEPS#2292 as int) AS DAILY_STEPS#2627, LIVE_VISION#2293, SLEEP_HOURS#2294, LOST_VACATION#2295, DAILY_SHOUTING#2296, SUFFICIENT_INCOME#2297, PERSONAL_AWARDS#2298, TIME_FOR_PASSION#2299, WEEKLY_MEDITATION#2300, AGE#2301, GENDER#2302, WORK_LIFE_BALANCE_SCORE#2303]\n                                                      +- Project [Timestamp#2280, FRUITS_VEGGIES#2352, DAILY_STRESS#2377, PLACES_VISITED#2402, CORE_CIRCLE#2427, SUPPORTING_OTHERS#2452, SOCIAL_NETWORK#2477, ACHIEVEMENT#2502, DONATION#2527, BMI_RANGE#2552, TODO_COMPLETED#2577, cast(FLOW#2291 as int) AS FLOW#2602, DAILY_STEPS#2292, LIVE_VISION#2293, SLEEP_HOURS#2294, LOST_VACATION#2295, DAILY_SHOUTING#2296, SUFFICIENT_INCOME#2297, PERSONAL_AWARDS#2298, TIME_FOR_PASSION#2299, WEEKLY_MEDITATION#2300, AGE#2301, GENDER#2302, WORK_LIFE_BALANCE_SCORE#2303]\n                                                         +- Project [Timestamp#2280, FRUITS_VEGGIES#2352, DAILY_STRESS#2377, PLACES_VISITED#2402, CORE_CIRCLE#2427, SUPPORTING_OTHERS#2452, SOCIAL_NETWORK#2477, ACHIEVEMENT#2502, DONATION#2527, BMI_RANGE#2552, cast(TODO_COMPLETED#2290 as int) AS TODO_COMPLETED#2577, FLOW#2291, DAILY_STEPS#2292, LIVE_VISION#2293, SLEEP_HOURS#2294, LOST_VACATION#2295, DAILY_SHOUTING#2296, SUFFICIENT_INCOME#2297, PERSONAL_AWARDS#2298, TIME_FOR_PASSION#2299, WEEKLY_MEDITATION#2300, AGE#2301, GENDER#2302, WORK_LIFE_BALANCE_SCORE#2303]\n                                                            +- Project [Timestamp#2280, FRUITS_VEGGIES#2352, DAILY_STRESS#2377, PLACES_VISITED#2402, CORE_CIRCLE#2427, SUPPORTING_OTHERS#2452, SOCIAL_NETWORK#2477, ACHIEVEMENT#2502, DONATION#2527, cast(BMI_RANGE#2289 as int) AS BMI_RANGE#2552, TODO_COMPLETED#2290, FLOW#2291, DAILY_STEPS#2292, LIVE_VISION#2293, SLEEP_HOURS#2294, LOST_VACATION#2295, DAILY_SHOUTING#2296, SUFFICIENT_INCOME#2297, PERSONAL_AWARDS#2298, TIME_FOR_PASSION#2299, WEEKLY_MEDITATION#2300, AGE#2301, GENDER#2302, WORK_LIFE_BALANCE_SCORE#2303]\n                                                               +- Project [Timestamp#2280, FRUITS_VEGGIES#2352, DAILY_STRESS#2377, PLACES_VISITED#2402, CORE_CIRCLE#2427, SUPPORTING_OTHERS#2452, SOCIAL_NETWORK#2477, ACHIEVEMENT#2502, cast(DONATION#2288 as int) AS DONATION#2527, BMI_RANGE#2289, TODO_COMPLETED#2290, FLOW#2291, DAILY_STEPS#2292, LIVE_VISION#2293, SLEEP_HOURS#2294, LOST_VACATION#2295, DAILY_SHOUTING#2296, SUFFICIENT_INCOME#2297, PERSONAL_AWARDS#2298, TIME_FOR_PASSION#2299, WEEKLY_MEDITATION#2300, AGE#2301, GENDER#2302, WORK_LIFE_BALANCE_SCORE#2303]\n                                                                  +- Project [Timestamp#2280, FRUITS_VEGGIES#2352, DAILY_STRESS#2377, PLACES_VISITED#2402, CORE_CIRCLE#2427, SUPPORTING_OTHERS#2452, SOCIAL_NETWORK#2477, cast(ACHIEVEMENT#2287 as int) AS ACHIEVEMENT#2502, DONATION#2288, BMI_RANGE#2289, TODO_COMPLETED#2290, FLOW#2291, DAILY_STEPS#2292, LIVE_VISION#2293, SLEEP_HOURS#2294, LOST_VACATION#2295, DAILY_SHOUTING#2296, SUFFICIENT_INCOME#2297, PERSONAL_AWARDS#2298, TIME_FOR_PASSION#2299, WEEKLY_MEDITATION#2300, AGE#2301, GENDER#2302, WORK_LIFE_BALANCE_SCORE#2303]\n                                                                     +- Project [Timestamp#2280, FRUITS_VEGGIES#2352, DAILY_STRESS#2377, PLACES_VISITED#2402, CORE_CIRCLE#2427, SUPPORTING_OTHERS#2452, cast(SOCIAL_NETWORK#2286 as int) AS SOCIAL_NETWORK#2477, ACHIEVEMENT#2287, DONATION#2288, BMI_RANGE#2289, TODO_COMPLETED#2290, FLOW#2291, DAILY_STEPS#2292, LIVE_VISION#2293, SLEEP_HOURS#2294, LOST_VACATION#2295, DAILY_SHOUTING#2296, SUFFICIENT_INCOME#2297, PERSONAL_AWARDS#2298, TIME_FOR_PASSION#2299, WEEKLY_MEDITATION#2300, AGE#2301, GENDER#2302, WORK_LIFE_BALANCE_SCORE#2303]\n                                                                        +- Project [Timestamp#2280, FRUITS_VEGGIES#2352, DAILY_STRESS#2377, PLACES_VISITED#2402, CORE_CIRCLE#2427, cast(SUPPORTING_OTHERS#2285 as int) AS SUPPORTING_OTHERS#2452, SOCIAL_NETWORK#2286, ACHIEVEMENT#2287, DONATION#2288, BMI_RANGE#2289, TODO_COMPLETED#2290, FLOW#2291, DAILY_STEPS#2292, LIVE_VISION#2293, SLEEP_HOURS#2294, LOST_VACATION#2295, DAILY_SHOUTING#2296, SUFFICIENT_INCOME#2297, PERSONAL_AWARDS#2298, TIME_FOR_PASSION#2299, WEEKLY_MEDITATION#2300, AGE#2301, GENDER#2302, WORK_LIFE_BALANCE_SCORE#2303]\n                                                                           +- Project [Timestamp#2280, FRUITS_VEGGIES#2352, DAILY_STRESS#2377, PLACES_VISITED#2402, cast(CORE_CIRCLE#2284 as int) AS CORE_CIRCLE#2427, SUPPORTING_OTHERS#2285, SOCIAL_NETWORK#2286, ACHIEVEMENT#2287, DONATION#2288, BMI_RANGE#2289, TODO_COMPLETED#2290, FLOW#2291, DAILY_STEPS#2292, LIVE_VISION#2293, SLEEP_HOURS#2294, LOST_VACATION#2295, DAILY_SHOUTING#2296, SUFFICIENT_INCOME#2297, PERSONAL_AWARDS#2298, TIME_FOR_PASSION#2299, WEEKLY_MEDITATION#2300, AGE#2301, GENDER#2302, WORK_LIFE_BALANCE_SCORE#2303]\n                                                                              +- Project [Timestamp#2280, FRUITS_VEGGIES#2352, DAILY_STRESS#2377, cast(PLACES_VISITED#2283 as int) AS PLACES_VISITED#2402, CORE_CIRCLE#2284, SUPPORTING_OTHERS#2285, SOCIAL_NETWORK#2286, ACHIEVEMENT#2287, DONATION#2288, BMI_RANGE#2289, TODO_COMPLETED#2290, FLOW#2291, DAILY_STEPS#2292, LIVE_VISION#2293, SLEEP_HOURS#2294, LOST_VACATION#2295, DAILY_SHOUTING#2296, SUFFICIENT_INCOME#2297, PERSONAL_AWARDS#2298, TIME_FOR_PASSION#2299, WEEKLY_MEDITATION#2300, AGE#2301, GENDER#2302, WORK_LIFE_BALANCE_SCORE#2303]\n                                                                                 +- Project [Timestamp#2280, FRUITS_VEGGIES#2352, cast(DAILY_STRESS#2282 as int) AS DAILY_STRESS#2377, PLACES_VISITED#2283, CORE_CIRCLE#2284, SUPPORTING_OTHERS#2285, SOCIAL_NETWORK#2286, ACHIEVEMENT#2287, DONATION#2288, BMI_RANGE#2289, TODO_COMPLETED#2290, FLOW#2291, DAILY_STEPS#2292, LIVE_VISION#2293, SLEEP_HOURS#2294, LOST_VACATION#2295, DAILY_SHOUTING#2296, SUFFICIENT_INCOME#2297, PERSONAL_AWARDS#2298, TIME_FOR_PASSION#2299, WEEKLY_MEDITATION#2300, AGE#2301, GENDER#2302, WORK_LIFE_BALANCE_SCORE#2303]\n                                                                                    +- Project [Timestamp#2280, cast(FRUITS_VEGGIES#2281 as int) AS FRUITS_VEGGIES#2352, DAILY_STRESS#2282, PLACES_VISITED#2283, CORE_CIRCLE#2284, SUPPORTING_OTHERS#2285, SOCIAL_NETWORK#2286, ACHIEVEMENT#2287, DONATION#2288, BMI_RANGE#2289, TODO_COMPLETED#2290, FLOW#2291, DAILY_STEPS#2292, LIVE_VISION#2293, SLEEP_HOURS#2294, LOST_VACATION#2295, DAILY_SHOUTING#2296, SUFFICIENT_INCOME#2297, PERSONAL_AWARDS#2298, TIME_FOR_PASSION#2299, WEEKLY_MEDITATION#2300, AGE#2301, GENDER#2302, WORK_LIFE_BALANCE_SCORE#2303]\n                                                                                       +- Filter NOT (Timestamp#2280 = Timestamp)\n                                                                                          +- Project [_c0#16 AS Timestamp#2280, _c1#17 AS FRUITS_VEGGIES#2281, _c2#18 AS DAILY_STRESS#2282, _c3#19 AS PLACES_VISITED#2283, _c4#20 AS CORE_CIRCLE#2284, _c5#21 AS SUPPORTING_OTHERS#2285, _c6#22 AS SOCIAL_NETWORK#2286, _c7#23 AS ACHIEVEMENT#2287, _c8#24 AS DONATION#2288, _c9#25 AS BMI_RANGE#2289, _c10#26 AS TODO_COMPLETED#2290, _c11#27 AS FLOW#2291, _c12#28 AS DAILY_STEPS#2292, _c13#29 AS LIVE_VISION#2293, _c14#30 AS SLEEP_HOURS#2294, _c15#31 AS LOST_VACATION#2295, _c16#32 AS DAILY_SHOUTING#2296, _c17#33 AS SUFFICIENT_INCOME#2297, _c18#34 AS PERSONAL_AWARDS#2298, _c19#35 AS TIME_FOR_PASSION#2299, _c20#36 AS WEEKLY_MEDITATION#2300, _c21#37 AS AGE#2301, _c22#38 AS GENDER#2302, _c23#39 AS WORK_LIFE_BALANCE_SCORE#2303]\n                                                                                             +- Relation [_c0#16,_c1#17,_c2#18,_c3#19,_c4#20,_c5#21,_c6#22,_c7#23,_c8#24,_c9#25,_c10#26,_c11#27,_c12#28,_c13#29,_c14#30,_c15#31,_c16#32,_c17#33,_c18#34,_c19#35,_c20#36,_c21#37,_c22#38,_c23#39] csv\n",
     "output_type": "error",
     "traceback": [
      "\u001b[0;31m---------------------------------------------------------------------------\u001b[0m",
      "\u001b[0;31mAnalysisException\u001b[0m                         Traceback (most recent call last)",
      "Input \u001b[0;32mIn [47]\u001b[0m, in \u001b[0;36m<cell line: 1>\u001b[0;34m()\u001b[0m\n\u001b[0;32m----> 1\u001b[0m final_data \u001b[38;5;241m=\u001b[39m \u001b[43moutput\u001b[49m\u001b[38;5;241;43m.\u001b[39;49m\u001b[43mselect\u001b[49m\u001b[43m(\u001b[49m\u001b[38;5;124;43m\"\u001b[39;49m\u001b[38;5;124;43mfeatures\u001b[39;49m\u001b[38;5;124;43m\"\u001b[39;49m\u001b[43m,\u001b[49m\u001b[38;5;124;43m'\u001b[39;49m\u001b[38;5;124;43mNormalized_SCORE\u001b[39;49m\u001b[38;5;124;43m'\u001b[39;49m\u001b[43m)\u001b[49m\n",
      "File \u001b[0;32m~/.local/lib/python3.10/site-packages/pyspark/sql/dataframe.py:1685\u001b[0m, in \u001b[0;36mDataFrame.select\u001b[0;34m(self, *cols)\u001b[0m\n\u001b[1;32m   1664\u001b[0m \u001b[38;5;28;01mdef\u001b[39;00m \u001b[38;5;21mselect\u001b[39m(\u001b[38;5;28mself\u001b[39m, \u001b[38;5;241m*\u001b[39mcols):\n\u001b[1;32m   1665\u001b[0m     \u001b[38;5;124;03m\"\"\"Projects a set of expressions and returns a new :class:`DataFrame`.\u001b[39;00m\n\u001b[1;32m   1666\u001b[0m \n\u001b[1;32m   1667\u001b[0m \u001b[38;5;124;03m    .. versionadded:: 1.3.0\u001b[39;00m\n\u001b[0;32m   (...)\u001b[0m\n\u001b[1;32m   1683\u001b[0m \u001b[38;5;124;03m    [Row(name='Alice', age=12), Row(name='Bob', age=15)]\u001b[39;00m\n\u001b[1;32m   1684\u001b[0m \u001b[38;5;124;03m    \"\"\"\u001b[39;00m\n\u001b[0;32m-> 1685\u001b[0m     jdf \u001b[38;5;241m=\u001b[39m \u001b[38;5;28;43mself\u001b[39;49m\u001b[38;5;241;43m.\u001b[39;49m\u001b[43m_jdf\u001b[49m\u001b[38;5;241;43m.\u001b[39;49m\u001b[43mselect\u001b[49m\u001b[43m(\u001b[49m\u001b[38;5;28;43mself\u001b[39;49m\u001b[38;5;241;43m.\u001b[39;49m\u001b[43m_jcols\u001b[49m\u001b[43m(\u001b[49m\u001b[38;5;241;43m*\u001b[39;49m\u001b[43mcols\u001b[49m\u001b[43m)\u001b[49m\u001b[43m)\u001b[49m\n\u001b[1;32m   1686\u001b[0m     \u001b[38;5;28;01mreturn\u001b[39;00m DataFrame(jdf, \u001b[38;5;28mself\u001b[39m\u001b[38;5;241m.\u001b[39msql_ctx)\n",
      "File \u001b[0;32m~/.local/lib/python3.10/site-packages/py4j/java_gateway.py:1321\u001b[0m, in \u001b[0;36mJavaMember.__call__\u001b[0;34m(self, *args)\u001b[0m\n\u001b[1;32m   1315\u001b[0m command \u001b[38;5;241m=\u001b[39m proto\u001b[38;5;241m.\u001b[39mCALL_COMMAND_NAME \u001b[38;5;241m+\u001b[39m\\\n\u001b[1;32m   1316\u001b[0m     \u001b[38;5;28mself\u001b[39m\u001b[38;5;241m.\u001b[39mcommand_header \u001b[38;5;241m+\u001b[39m\\\n\u001b[1;32m   1317\u001b[0m     args_command \u001b[38;5;241m+\u001b[39m\\\n\u001b[1;32m   1318\u001b[0m     proto\u001b[38;5;241m.\u001b[39mEND_COMMAND_PART\n\u001b[1;32m   1320\u001b[0m answer \u001b[38;5;241m=\u001b[39m \u001b[38;5;28mself\u001b[39m\u001b[38;5;241m.\u001b[39mgateway_client\u001b[38;5;241m.\u001b[39msend_command(command)\n\u001b[0;32m-> 1321\u001b[0m return_value \u001b[38;5;241m=\u001b[39m \u001b[43mget_return_value\u001b[49m\u001b[43m(\u001b[49m\n\u001b[1;32m   1322\u001b[0m \u001b[43m    \u001b[49m\u001b[43manswer\u001b[49m\u001b[43m,\u001b[49m\u001b[43m \u001b[49m\u001b[38;5;28;43mself\u001b[39;49m\u001b[38;5;241;43m.\u001b[39;49m\u001b[43mgateway_client\u001b[49m\u001b[43m,\u001b[49m\u001b[43m \u001b[49m\u001b[38;5;28;43mself\u001b[39;49m\u001b[38;5;241;43m.\u001b[39;49m\u001b[43mtarget_id\u001b[49m\u001b[43m,\u001b[49m\u001b[43m \u001b[49m\u001b[38;5;28;43mself\u001b[39;49m\u001b[38;5;241;43m.\u001b[39;49m\u001b[43mname\u001b[49m\u001b[43m)\u001b[49m\n\u001b[1;32m   1324\u001b[0m \u001b[38;5;28;01mfor\u001b[39;00m temp_arg \u001b[38;5;129;01min\u001b[39;00m temp_args:\n\u001b[1;32m   1325\u001b[0m     temp_arg\u001b[38;5;241m.\u001b[39m_detach()\n",
      "File \u001b[0;32m~/.local/lib/python3.10/site-packages/pyspark/sql/utils.py:117\u001b[0m, in \u001b[0;36mcapture_sql_exception.<locals>.deco\u001b[0;34m(*a, **kw)\u001b[0m\n\u001b[1;32m    113\u001b[0m converted \u001b[38;5;241m=\u001b[39m convert_exception(e\u001b[38;5;241m.\u001b[39mjava_exception)\n\u001b[1;32m    114\u001b[0m \u001b[38;5;28;01mif\u001b[39;00m \u001b[38;5;129;01mnot\u001b[39;00m \u001b[38;5;28misinstance\u001b[39m(converted, UnknownException):\n\u001b[1;32m    115\u001b[0m     \u001b[38;5;66;03m# Hide where the exception came from that shows a non-Pythonic\u001b[39;00m\n\u001b[1;32m    116\u001b[0m     \u001b[38;5;66;03m# JVM exception message.\u001b[39;00m\n\u001b[0;32m--> 117\u001b[0m     \u001b[38;5;28;01mraise\u001b[39;00m converted \u001b[38;5;28;01mfrom\u001b[39;00m \u001b[38;5;28mNone\u001b[39m\n\u001b[1;32m    118\u001b[0m \u001b[38;5;28;01melse\u001b[39;00m:\n\u001b[1;32m    119\u001b[0m     \u001b[38;5;28;01mraise\u001b[39;00m\n",
      "\u001b[0;31mAnalysisException\u001b[0m: cannot resolve 'Normalized_SCORE' given input columns: [ACHIEVEMENT, AGE, Age_group, BMI_RANGE, CORE_CIRCLE, DAILY_SHOUTING, DAILY_STEPS, DAILY_STRESS, DONATION, FLOW, FRUITS_VEGGIES, GENDER, LIVE_VISION, LOST_VACATION, PERSONAL_AWARDS, PLACES_VISITED, SLEEP_HOURS, SOCIAL_NETWORK, SUFFICIENT_INCOME, SUPPORTING_OTHERS, TIME_FOR_PASSION, TODO_COMPLETED, Timestamp, WEEKLY_MEDITATION, WORK_LIFE_BALANCE_SCORE, Year, features];\n'Project [features#8026, 'Normalized_SCORE]\n+- Project [Timestamp#2280, FRUITS_VEGGIES#2352, DAILY_STRESS#7300, PLACES_VISITED#2402, CORE_CIRCLE#2427, SUPPORTING_OTHERS#2452, SOCIAL_NETWORK#2477, ACHIEVEMENT#2502, DONATION#2527, BMI_RANGE#7454, TODO_COMPLETED#2577, FLOW#2602, DAILY_STEPS#2627, LIVE_VISION#2652, SLEEP_HOURS#6961, LOST_VACATION#2702, DAILY_SHOUTING#2727, SUFFICIENT_INCOME#7481, PERSONAL_AWARDS#2777, TIME_FOR_PASSION#2802, WEEKLY_MEDITATION#2827, AGE#2301, GENDER#7107, WORK_LIFE_BALANCE_SCORE#2852, ... 3 more fields]\n   +- Project [Timestamp#2280, FRUITS_VEGGIES#2352, DAILY_STRESS#7300, PLACES_VISITED#2402, CORE_CIRCLE#2427, SUPPORTING_OTHERS#2452, SOCIAL_NETWORK#2477, ACHIEVEMENT#2502, DONATION#2527, BMI_RANGE#7454, TODO_COMPLETED#2577, FLOW#2602, DAILY_STEPS#2627, LIVE_VISION#2652, SLEEP_HOURS#6961, LOST_VACATION#2702, DAILY_SHOUTING#2727, CASE WHEN (SUFFICIENT_INCOME#2752 = 1) THEN 0 WHEN (SUFFICIENT_INCOME#2752 = 2) THEN 1 ELSE SUFFICIENT_INCOME#2752 END AS SUFFICIENT_INCOME#7481, PERSONAL_AWARDS#2777, TIME_FOR_PASSION#2802, WEEKLY_MEDITATION#2827, AGE#2301, GENDER#7107, WORK_LIFE_BALANCE_SCORE#2852, ... 2 more fields]\n      +- Project [Timestamp#2280, FRUITS_VEGGIES#2352, DAILY_STRESS#7300, PLACES_VISITED#2402, CORE_CIRCLE#2427, SUPPORTING_OTHERS#2452, SOCIAL_NETWORK#2477, ACHIEVEMENT#2502, DONATION#2527, CASE WHEN (BMI_RANGE#2552 = 1) THEN 0 WHEN (BMI_RANGE#2552 = 2) THEN 1 ELSE BMI_RANGE#2552 END AS BMI_RANGE#7454, TODO_COMPLETED#2577, FLOW#2602, DAILY_STEPS#2627, LIVE_VISION#2652, SLEEP_HOURS#6961, LOST_VACATION#2702, DAILY_SHOUTING#2727, SUFFICIENT_INCOME#2752, PERSONAL_AWARDS#2777, TIME_FOR_PASSION#2802, WEEKLY_MEDITATION#2827, AGE#2301, GENDER#7107, WORK_LIFE_BALANCE_SCORE#2852, ... 2 more fields]\n         +- Project [Timestamp#2280, FRUITS_VEGGIES#2352, CASE WHEN isnull(DAILY_STRESS#2377) THEN 3 ELSE DAILY_STRESS#2377 END AS DAILY_STRESS#7300, PLACES_VISITED#2402, CORE_CIRCLE#2427, SUPPORTING_OTHERS#2452, SOCIAL_NETWORK#2477, ACHIEVEMENT#2502, DONATION#2527, BMI_RANGE#2552, TODO_COMPLETED#2577, FLOW#2602, DAILY_STEPS#2627, LIVE_VISION#2652, SLEEP_HOURS#6961, LOST_VACATION#2702, DAILY_SHOUTING#2727, SUFFICIENT_INCOME#2752, PERSONAL_AWARDS#2777, TIME_FOR_PASSION#2802, WEEKLY_MEDITATION#2827, AGE#2301, GENDER#7107, WORK_LIFE_BALANCE_SCORE#2852, ... 2 more fields]\n            +- Project [Timestamp#2280, FRUITS_VEGGIES#2352, DAILY_STRESS#2377, PLACES_VISITED#2402, CORE_CIRCLE#2427, SUPPORTING_OTHERS#2452, SOCIAL_NETWORK#2477, ACHIEVEMENT#2502, DONATION#2527, BMI_RANGE#2552, TODO_COMPLETED#2577, FLOW#2602, DAILY_STEPS#2627, LIVE_VISION#2652, SLEEP_HOURS#6961, LOST_VACATION#2702, DAILY_SHOUTING#2727, SUFFICIENT_INCOME#2752, PERSONAL_AWARDS#2777, TIME_FOR_PASSION#2802, WEEKLY_MEDITATION#2827, AGE#2301, GENDER#7107, WORK_LIFE_BALANCE_SCORE#2852, ... 2 more fields]\n               +- Project [Timestamp#2280, FRUITS_VEGGIES#2352, DAILY_STRESS#2377, PLACES_VISITED#2402, CORE_CIRCLE#2427, SUPPORTING_OTHERS#2452, SOCIAL_NETWORK#2477, ACHIEVEMENT#2502, DONATION#2527, BMI_RANGE#2552, TODO_COMPLETED#2577, FLOW#2602, DAILY_STEPS#2627, LIVE_VISION#2652, SLEEP_HOURS#6961, LOST_VACATION#2702, DAILY_SHOUTING#2727, SUFFICIENT_INCOME#2752, PERSONAL_AWARDS#2777, TIME_FOR_PASSION#2802, WEEKLY_MEDITATION#2827, AGE#2301, cast(CASE WHEN (GENDER#2302 = Female) THEN cast(1 as string) WHEN (GENDER#2302 = Male) THEN cast(0 as string) ELSE GENDER#2302 END as int) AS GENDER#7107, WORK_LIFE_BALANCE_SCORE#2852, Year#7027]\n                  +- Project [Timestamp#2280, FRUITS_VEGGIES#2352, DAILY_STRESS#2377, PLACES_VISITED#2402, CORE_CIRCLE#2427, SUPPORTING_OTHERS#2452, SOCIAL_NETWORK#2477, ACHIEVEMENT#2502, DONATION#2527, BMI_RANGE#2552, TODO_COMPLETED#2577, FLOW#2602, DAILY_STEPS#2627, LIVE_VISION#2652, SLEEP_HOURS#6961, LOST_VACATION#2702, DAILY_SHOUTING#2727, SUFFICIENT_INCOME#2752, PERSONAL_AWARDS#2777, TIME_FOR_PASSION#2802, WEEKLY_MEDITATION#2827, AGE#2301, GENDER#2302, WORK_LIFE_BALANCE_SCORE#2852, concat_ws(20, substring(Timestamp#2280, -2, 2)) AS Year#7027]\n                     +- Project [Timestamp#2280, FRUITS_VEGGIES#2352, DAILY_STRESS#2377, PLACES_VISITED#2402, CORE_CIRCLE#2427, SUPPORTING_OTHERS#2452, SOCIAL_NETWORK#2477, ACHIEVEMENT#2502, DONATION#2527, BMI_RANGE#2552, TODO_COMPLETED#2577, FLOW#2602, DAILY_STEPS#2627, LIVE_VISION#2652, CASE WHEN ((SLEEP_HOURS#2677 = 1) OR (SLEEP_HOURS#2677 = 2)) THEN 7 ELSE SLEEP_HOURS#2677 END AS SLEEP_HOURS#6961, LOST_VACATION#2702, DAILY_SHOUTING#2727, SUFFICIENT_INCOME#2752, PERSONAL_AWARDS#2777, TIME_FOR_PASSION#2802, WEEKLY_MEDITATION#2827, AGE#2301, GENDER#2302, WORK_LIFE_BALANCE_SCORE#2852]\n                        +- Project [Timestamp#2280, FRUITS_VEGGIES#2352, DAILY_STRESS#2377, PLACES_VISITED#2402, CORE_CIRCLE#2427, SUPPORTING_OTHERS#2452, SOCIAL_NETWORK#2477, ACHIEVEMENT#2502, DONATION#2527, BMI_RANGE#2552, TODO_COMPLETED#2577, FLOW#2602, DAILY_STEPS#2627, LIVE_VISION#2652, SLEEP_HOURS#2677, LOST_VACATION#2702, DAILY_SHOUTING#2727, SUFFICIENT_INCOME#2752, PERSONAL_AWARDS#2777, TIME_FOR_PASSION#2802, WEEKLY_MEDITATION#2827, AGE#2301, GENDER#2302, cast(WORK_LIFE_BALANCE_SCORE#2303 as int) AS WORK_LIFE_BALANCE_SCORE#2852]\n                           +- Project [Timestamp#2280, FRUITS_VEGGIES#2352, DAILY_STRESS#2377, PLACES_VISITED#2402, CORE_CIRCLE#2427, SUPPORTING_OTHERS#2452, SOCIAL_NETWORK#2477, ACHIEVEMENT#2502, DONATION#2527, BMI_RANGE#2552, TODO_COMPLETED#2577, FLOW#2602, DAILY_STEPS#2627, LIVE_VISION#2652, SLEEP_HOURS#2677, LOST_VACATION#2702, DAILY_SHOUTING#2727, SUFFICIENT_INCOME#2752, PERSONAL_AWARDS#2777, TIME_FOR_PASSION#2802, cast(WEEKLY_MEDITATION#2300 as int) AS WEEKLY_MEDITATION#2827, AGE#2301, GENDER#2302, WORK_LIFE_BALANCE_SCORE#2303]\n                              +- Project [Timestamp#2280, FRUITS_VEGGIES#2352, DAILY_STRESS#2377, PLACES_VISITED#2402, CORE_CIRCLE#2427, SUPPORTING_OTHERS#2452, SOCIAL_NETWORK#2477, ACHIEVEMENT#2502, DONATION#2527, BMI_RANGE#2552, TODO_COMPLETED#2577, FLOW#2602, DAILY_STEPS#2627, LIVE_VISION#2652, SLEEP_HOURS#2677, LOST_VACATION#2702, DAILY_SHOUTING#2727, SUFFICIENT_INCOME#2752, PERSONAL_AWARDS#2777, cast(TIME_FOR_PASSION#2299 as int) AS TIME_FOR_PASSION#2802, WEEKLY_MEDITATION#2300, AGE#2301, GENDER#2302, WORK_LIFE_BALANCE_SCORE#2303]\n                                 +- Project [Timestamp#2280, FRUITS_VEGGIES#2352, DAILY_STRESS#2377, PLACES_VISITED#2402, CORE_CIRCLE#2427, SUPPORTING_OTHERS#2452, SOCIAL_NETWORK#2477, ACHIEVEMENT#2502, DONATION#2527, BMI_RANGE#2552, TODO_COMPLETED#2577, FLOW#2602, DAILY_STEPS#2627, LIVE_VISION#2652, SLEEP_HOURS#2677, LOST_VACATION#2702, DAILY_SHOUTING#2727, SUFFICIENT_INCOME#2752, cast(PERSONAL_AWARDS#2298 as int) AS PERSONAL_AWARDS#2777, TIME_FOR_PASSION#2299, WEEKLY_MEDITATION#2300, AGE#2301, GENDER#2302, WORK_LIFE_BALANCE_SCORE#2303]\n                                    +- Project [Timestamp#2280, FRUITS_VEGGIES#2352, DAILY_STRESS#2377, PLACES_VISITED#2402, CORE_CIRCLE#2427, SUPPORTING_OTHERS#2452, SOCIAL_NETWORK#2477, ACHIEVEMENT#2502, DONATION#2527, BMI_RANGE#2552, TODO_COMPLETED#2577, FLOW#2602, DAILY_STEPS#2627, LIVE_VISION#2652, SLEEP_HOURS#2677, LOST_VACATION#2702, DAILY_SHOUTING#2727, cast(SUFFICIENT_INCOME#2297 as int) AS SUFFICIENT_INCOME#2752, PERSONAL_AWARDS#2298, TIME_FOR_PASSION#2299, WEEKLY_MEDITATION#2300, AGE#2301, GENDER#2302, WORK_LIFE_BALANCE_SCORE#2303]\n                                       +- Project [Timestamp#2280, FRUITS_VEGGIES#2352, DAILY_STRESS#2377, PLACES_VISITED#2402, CORE_CIRCLE#2427, SUPPORTING_OTHERS#2452, SOCIAL_NETWORK#2477, ACHIEVEMENT#2502, DONATION#2527, BMI_RANGE#2552, TODO_COMPLETED#2577, FLOW#2602, DAILY_STEPS#2627, LIVE_VISION#2652, SLEEP_HOURS#2677, LOST_VACATION#2702, cast(DAILY_SHOUTING#2296 as int) AS DAILY_SHOUTING#2727, SUFFICIENT_INCOME#2297, PERSONAL_AWARDS#2298, TIME_FOR_PASSION#2299, WEEKLY_MEDITATION#2300, AGE#2301, GENDER#2302, WORK_LIFE_BALANCE_SCORE#2303]\n                                          +- Project [Timestamp#2280, FRUITS_VEGGIES#2352, DAILY_STRESS#2377, PLACES_VISITED#2402, CORE_CIRCLE#2427, SUPPORTING_OTHERS#2452, SOCIAL_NETWORK#2477, ACHIEVEMENT#2502, DONATION#2527, BMI_RANGE#2552, TODO_COMPLETED#2577, FLOW#2602, DAILY_STEPS#2627, LIVE_VISION#2652, SLEEP_HOURS#2677, cast(LOST_VACATION#2295 as int) AS LOST_VACATION#2702, DAILY_SHOUTING#2296, SUFFICIENT_INCOME#2297, PERSONAL_AWARDS#2298, TIME_FOR_PASSION#2299, WEEKLY_MEDITATION#2300, AGE#2301, GENDER#2302, WORK_LIFE_BALANCE_SCORE#2303]\n                                             +- Project [Timestamp#2280, FRUITS_VEGGIES#2352, DAILY_STRESS#2377, PLACES_VISITED#2402, CORE_CIRCLE#2427, SUPPORTING_OTHERS#2452, SOCIAL_NETWORK#2477, ACHIEVEMENT#2502, DONATION#2527, BMI_RANGE#2552, TODO_COMPLETED#2577, FLOW#2602, DAILY_STEPS#2627, LIVE_VISION#2652, cast(SLEEP_HOURS#2294 as int) AS SLEEP_HOURS#2677, LOST_VACATION#2295, DAILY_SHOUTING#2296, SUFFICIENT_INCOME#2297, PERSONAL_AWARDS#2298, TIME_FOR_PASSION#2299, WEEKLY_MEDITATION#2300, AGE#2301, GENDER#2302, WORK_LIFE_BALANCE_SCORE#2303]\n                                                +- Project [Timestamp#2280, FRUITS_VEGGIES#2352, DAILY_STRESS#2377, PLACES_VISITED#2402, CORE_CIRCLE#2427, SUPPORTING_OTHERS#2452, SOCIAL_NETWORK#2477, ACHIEVEMENT#2502, DONATION#2527, BMI_RANGE#2552, TODO_COMPLETED#2577, FLOW#2602, DAILY_STEPS#2627, cast(LIVE_VISION#2293 as int) AS LIVE_VISION#2652, SLEEP_HOURS#2294, LOST_VACATION#2295, DAILY_SHOUTING#2296, SUFFICIENT_INCOME#2297, PERSONAL_AWARDS#2298, TIME_FOR_PASSION#2299, WEEKLY_MEDITATION#2300, AGE#2301, GENDER#2302, WORK_LIFE_BALANCE_SCORE#2303]\n                                                   +- Project [Timestamp#2280, FRUITS_VEGGIES#2352, DAILY_STRESS#2377, PLACES_VISITED#2402, CORE_CIRCLE#2427, SUPPORTING_OTHERS#2452, SOCIAL_NETWORK#2477, ACHIEVEMENT#2502, DONATION#2527, BMI_RANGE#2552, TODO_COMPLETED#2577, FLOW#2602, cast(DAILY_STEPS#2292 as int) AS DAILY_STEPS#2627, LIVE_VISION#2293, SLEEP_HOURS#2294, LOST_VACATION#2295, DAILY_SHOUTING#2296, SUFFICIENT_INCOME#2297, PERSONAL_AWARDS#2298, TIME_FOR_PASSION#2299, WEEKLY_MEDITATION#2300, AGE#2301, GENDER#2302, WORK_LIFE_BALANCE_SCORE#2303]\n                                                      +- Project [Timestamp#2280, FRUITS_VEGGIES#2352, DAILY_STRESS#2377, PLACES_VISITED#2402, CORE_CIRCLE#2427, SUPPORTING_OTHERS#2452, SOCIAL_NETWORK#2477, ACHIEVEMENT#2502, DONATION#2527, BMI_RANGE#2552, TODO_COMPLETED#2577, cast(FLOW#2291 as int) AS FLOW#2602, DAILY_STEPS#2292, LIVE_VISION#2293, SLEEP_HOURS#2294, LOST_VACATION#2295, DAILY_SHOUTING#2296, SUFFICIENT_INCOME#2297, PERSONAL_AWARDS#2298, TIME_FOR_PASSION#2299, WEEKLY_MEDITATION#2300, AGE#2301, GENDER#2302, WORK_LIFE_BALANCE_SCORE#2303]\n                                                         +- Project [Timestamp#2280, FRUITS_VEGGIES#2352, DAILY_STRESS#2377, PLACES_VISITED#2402, CORE_CIRCLE#2427, SUPPORTING_OTHERS#2452, SOCIAL_NETWORK#2477, ACHIEVEMENT#2502, DONATION#2527, BMI_RANGE#2552, cast(TODO_COMPLETED#2290 as int) AS TODO_COMPLETED#2577, FLOW#2291, DAILY_STEPS#2292, LIVE_VISION#2293, SLEEP_HOURS#2294, LOST_VACATION#2295, DAILY_SHOUTING#2296, SUFFICIENT_INCOME#2297, PERSONAL_AWARDS#2298, TIME_FOR_PASSION#2299, WEEKLY_MEDITATION#2300, AGE#2301, GENDER#2302, WORK_LIFE_BALANCE_SCORE#2303]\n                                                            +- Project [Timestamp#2280, FRUITS_VEGGIES#2352, DAILY_STRESS#2377, PLACES_VISITED#2402, CORE_CIRCLE#2427, SUPPORTING_OTHERS#2452, SOCIAL_NETWORK#2477, ACHIEVEMENT#2502, DONATION#2527, cast(BMI_RANGE#2289 as int) AS BMI_RANGE#2552, TODO_COMPLETED#2290, FLOW#2291, DAILY_STEPS#2292, LIVE_VISION#2293, SLEEP_HOURS#2294, LOST_VACATION#2295, DAILY_SHOUTING#2296, SUFFICIENT_INCOME#2297, PERSONAL_AWARDS#2298, TIME_FOR_PASSION#2299, WEEKLY_MEDITATION#2300, AGE#2301, GENDER#2302, WORK_LIFE_BALANCE_SCORE#2303]\n                                                               +- Project [Timestamp#2280, FRUITS_VEGGIES#2352, DAILY_STRESS#2377, PLACES_VISITED#2402, CORE_CIRCLE#2427, SUPPORTING_OTHERS#2452, SOCIAL_NETWORK#2477, ACHIEVEMENT#2502, cast(DONATION#2288 as int) AS DONATION#2527, BMI_RANGE#2289, TODO_COMPLETED#2290, FLOW#2291, DAILY_STEPS#2292, LIVE_VISION#2293, SLEEP_HOURS#2294, LOST_VACATION#2295, DAILY_SHOUTING#2296, SUFFICIENT_INCOME#2297, PERSONAL_AWARDS#2298, TIME_FOR_PASSION#2299, WEEKLY_MEDITATION#2300, AGE#2301, GENDER#2302, WORK_LIFE_BALANCE_SCORE#2303]\n                                                                  +- Project [Timestamp#2280, FRUITS_VEGGIES#2352, DAILY_STRESS#2377, PLACES_VISITED#2402, CORE_CIRCLE#2427, SUPPORTING_OTHERS#2452, SOCIAL_NETWORK#2477, cast(ACHIEVEMENT#2287 as int) AS ACHIEVEMENT#2502, DONATION#2288, BMI_RANGE#2289, TODO_COMPLETED#2290, FLOW#2291, DAILY_STEPS#2292, LIVE_VISION#2293, SLEEP_HOURS#2294, LOST_VACATION#2295, DAILY_SHOUTING#2296, SUFFICIENT_INCOME#2297, PERSONAL_AWARDS#2298, TIME_FOR_PASSION#2299, WEEKLY_MEDITATION#2300, AGE#2301, GENDER#2302, WORK_LIFE_BALANCE_SCORE#2303]\n                                                                     +- Project [Timestamp#2280, FRUITS_VEGGIES#2352, DAILY_STRESS#2377, PLACES_VISITED#2402, CORE_CIRCLE#2427, SUPPORTING_OTHERS#2452, cast(SOCIAL_NETWORK#2286 as int) AS SOCIAL_NETWORK#2477, ACHIEVEMENT#2287, DONATION#2288, BMI_RANGE#2289, TODO_COMPLETED#2290, FLOW#2291, DAILY_STEPS#2292, LIVE_VISION#2293, SLEEP_HOURS#2294, LOST_VACATION#2295, DAILY_SHOUTING#2296, SUFFICIENT_INCOME#2297, PERSONAL_AWARDS#2298, TIME_FOR_PASSION#2299, WEEKLY_MEDITATION#2300, AGE#2301, GENDER#2302, WORK_LIFE_BALANCE_SCORE#2303]\n                                                                        +- Project [Timestamp#2280, FRUITS_VEGGIES#2352, DAILY_STRESS#2377, PLACES_VISITED#2402, CORE_CIRCLE#2427, cast(SUPPORTING_OTHERS#2285 as int) AS SUPPORTING_OTHERS#2452, SOCIAL_NETWORK#2286, ACHIEVEMENT#2287, DONATION#2288, BMI_RANGE#2289, TODO_COMPLETED#2290, FLOW#2291, DAILY_STEPS#2292, LIVE_VISION#2293, SLEEP_HOURS#2294, LOST_VACATION#2295, DAILY_SHOUTING#2296, SUFFICIENT_INCOME#2297, PERSONAL_AWARDS#2298, TIME_FOR_PASSION#2299, WEEKLY_MEDITATION#2300, AGE#2301, GENDER#2302, WORK_LIFE_BALANCE_SCORE#2303]\n                                                                           +- Project [Timestamp#2280, FRUITS_VEGGIES#2352, DAILY_STRESS#2377, PLACES_VISITED#2402, cast(CORE_CIRCLE#2284 as int) AS CORE_CIRCLE#2427, SUPPORTING_OTHERS#2285, SOCIAL_NETWORK#2286, ACHIEVEMENT#2287, DONATION#2288, BMI_RANGE#2289, TODO_COMPLETED#2290, FLOW#2291, DAILY_STEPS#2292, LIVE_VISION#2293, SLEEP_HOURS#2294, LOST_VACATION#2295, DAILY_SHOUTING#2296, SUFFICIENT_INCOME#2297, PERSONAL_AWARDS#2298, TIME_FOR_PASSION#2299, WEEKLY_MEDITATION#2300, AGE#2301, GENDER#2302, WORK_LIFE_BALANCE_SCORE#2303]\n                                                                              +- Project [Timestamp#2280, FRUITS_VEGGIES#2352, DAILY_STRESS#2377, cast(PLACES_VISITED#2283 as int) AS PLACES_VISITED#2402, CORE_CIRCLE#2284, SUPPORTING_OTHERS#2285, SOCIAL_NETWORK#2286, ACHIEVEMENT#2287, DONATION#2288, BMI_RANGE#2289, TODO_COMPLETED#2290, FLOW#2291, DAILY_STEPS#2292, LIVE_VISION#2293, SLEEP_HOURS#2294, LOST_VACATION#2295, DAILY_SHOUTING#2296, SUFFICIENT_INCOME#2297, PERSONAL_AWARDS#2298, TIME_FOR_PASSION#2299, WEEKLY_MEDITATION#2300, AGE#2301, GENDER#2302, WORK_LIFE_BALANCE_SCORE#2303]\n                                                                                 +- Project [Timestamp#2280, FRUITS_VEGGIES#2352, cast(DAILY_STRESS#2282 as int) AS DAILY_STRESS#2377, PLACES_VISITED#2283, CORE_CIRCLE#2284, SUPPORTING_OTHERS#2285, SOCIAL_NETWORK#2286, ACHIEVEMENT#2287, DONATION#2288, BMI_RANGE#2289, TODO_COMPLETED#2290, FLOW#2291, DAILY_STEPS#2292, LIVE_VISION#2293, SLEEP_HOURS#2294, LOST_VACATION#2295, DAILY_SHOUTING#2296, SUFFICIENT_INCOME#2297, PERSONAL_AWARDS#2298, TIME_FOR_PASSION#2299, WEEKLY_MEDITATION#2300, AGE#2301, GENDER#2302, WORK_LIFE_BALANCE_SCORE#2303]\n                                                                                    +- Project [Timestamp#2280, cast(FRUITS_VEGGIES#2281 as int) AS FRUITS_VEGGIES#2352, DAILY_STRESS#2282, PLACES_VISITED#2283, CORE_CIRCLE#2284, SUPPORTING_OTHERS#2285, SOCIAL_NETWORK#2286, ACHIEVEMENT#2287, DONATION#2288, BMI_RANGE#2289, TODO_COMPLETED#2290, FLOW#2291, DAILY_STEPS#2292, LIVE_VISION#2293, SLEEP_HOURS#2294, LOST_VACATION#2295, DAILY_SHOUTING#2296, SUFFICIENT_INCOME#2297, PERSONAL_AWARDS#2298, TIME_FOR_PASSION#2299, WEEKLY_MEDITATION#2300, AGE#2301, GENDER#2302, WORK_LIFE_BALANCE_SCORE#2303]\n                                                                                       +- Filter NOT (Timestamp#2280 = Timestamp)\n                                                                                          +- Project [_c0#16 AS Timestamp#2280, _c1#17 AS FRUITS_VEGGIES#2281, _c2#18 AS DAILY_STRESS#2282, _c3#19 AS PLACES_VISITED#2283, _c4#20 AS CORE_CIRCLE#2284, _c5#21 AS SUPPORTING_OTHERS#2285, _c6#22 AS SOCIAL_NETWORK#2286, _c7#23 AS ACHIEVEMENT#2287, _c8#24 AS DONATION#2288, _c9#25 AS BMI_RANGE#2289, _c10#26 AS TODO_COMPLETED#2290, _c11#27 AS FLOW#2291, _c12#28 AS DAILY_STEPS#2292, _c13#29 AS LIVE_VISION#2293, _c14#30 AS SLEEP_HOURS#2294, _c15#31 AS LOST_VACATION#2295, _c16#32 AS DAILY_SHOUTING#2296, _c17#33 AS SUFFICIENT_INCOME#2297, _c18#34 AS PERSONAL_AWARDS#2298, _c19#35 AS TIME_FOR_PASSION#2299, _c20#36 AS WEEKLY_MEDITATION#2300, _c21#37 AS AGE#2301, _c22#38 AS GENDER#2302, _c23#39 AS WORK_LIFE_BALANCE_SCORE#2303]\n                                                                                             +- Relation [_c0#16,_c1#17,_c2#18,_c3#19,_c4#20,_c5#21,_c6#22,_c7#23,_c8#24,_c9#25,_c10#26,_c11#27,_c12#28,_c13#29,_c14#30,_c15#31,_c16#32,_c17#33,_c18#34,_c19#35,_c20#36,_c21#37,_c22#38,_c23#39] csv\n"
     ]
    }
   ],
   "source": []
  },
  {
   "cell_type": "code",
   "execution_count": null,
   "id": "fbf83de2",
   "metadata": {},
   "outputs": [],
   "source": []
  }
 ],
 "metadata": {
  "kernelspec": {
   "display_name": "Python 3 (ipykernel)",
   "language": "python",
   "name": "python3"
  },
  "language_info": {
   "codemirror_mode": {
    "name": "ipython",
    "version": 3
   },
   "file_extension": ".py",
   "mimetype": "text/x-python",
   "name": "python",
   "nbconvert_exporter": "python",
   "pygments_lexer": "ipython3",
   "version": "3.10.12"
  }
 },
 "nbformat": 4,
 "nbformat_minor": 5
}
